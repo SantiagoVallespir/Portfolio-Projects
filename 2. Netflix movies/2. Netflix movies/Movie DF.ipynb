{
 "cells": [
  {
   "cell_type": "code",
   "execution_count": 114,
   "id": "fb58c4fa",
   "metadata": {},
   "outputs": [
    {
     "name": "stdout",
     "output_type": "stream",
     "text": [
      "[[1 3]\n",
      " [2 4]]\n",
      "2021-12-03 18:12:55.819563\n"
     ]
    }
   ],
   "source": [
    "# Import pandas as pd\n",
    "import pandas as pd\n",
    "from datetime import datetime\n",
    "import numpy as np\n",
    "from utils import get_movie, get_movie_id, get_movie_data\n",
    "import requests\n",
    "\n",
    "class MovieDF(pd.DataFrame):\n",
    "    \n",
    "    @classmethod\n",
    "    def load_file(cls, filename):\n",
    "        df = pd.read_csv(filename)\n",
    "        if len(df.columns) > 2:\n",
    "            raise Exception(\"The DataFrame must have two columns\")\n",
    "        else:\n",
    "            return cls(df)\n",
    "            return print(df)\n",
    "    \n",
    "    @classmethod\n",
    "    def single_movie(cls, movie, year):\n",
    "        data = [[movie, year]]\n",
    "        df = pd.DataFrame(data, columns = ['movie', 'year'])\n",
    "        return cls(df)\n",
    "        return print(df)\n",
    "    \n",
    "    def __init__(self, *args, **kwargs):\n",
    "        pd.DataFrame.__init__(self, *args, **kwargs)\n",
    "        self.created_at = datetime.today()\n",
    "    \n",
    "    @property\n",
    "    def get_id_column(self):\n",
    "        columns = self.columns\n",
    "        iterator = zip(self[columns[0]], self[columns[1]])\n",
    "        self[\"id\"] = [get_movie_id(x[0], x[1]) for x in iterator]\n",
    "        return self\n",
    "    \n",
    "    \n",
    "    def add_new_column(self, column_name):   \n",
    "        self[column_name] = [get_movie_data(x, column_name) for x in self[\"id\"]]\n",
    "        return self\n",
    "    \n",
    "    def flat_column(self, column):\n",
    "        \n",
    "        i = 0\n",
    "        genres_list = []\n",
    "\n",
    "        for row in self[column]:\n",
    "            row_genres = []\n",
    "            for genre in row:\n",
    "                row_genres.append(genre[\"name\"])\n",
    "            genres_list.append(row_genres)\n",
    "            i += 1\n",
    "    \n",
    "        self[column + \"_1\"] = [row[0] for row in genres_list]\n",
    "        \n",
    "        column_2 = []\n",
    "        \n",
    "        for row in genres_list:\n",
    "            try:\n",
    "                column_2.append(row[1])\n",
    "            except:\n",
    "                column_2.append(None)\n",
    "                \n",
    "        self[column + \"_2\"] = column_2      \n",
    "        \n",
    "        self.drop(columns = column, axis = 1, inplace = True)\n",
    "        \n",
    "        return self\n",
    "    \n",
    "\n",
    "mdf = MovieDF({\"col1\": [1,2], \"col2\": [3,4]})\n",
    "print(mdf.values)\n",
    "print(mdf.created_at)"
   ]
  },
  {
   "cell_type": "code",
   "execution_count": 125,
   "id": "1cd4de97",
   "metadata": {},
   "outputs": [
    {
     "data": {
      "text/html": [
       "<div>\n",
       "<style scoped>\n",
       "    .dataframe tbody tr th:only-of-type {\n",
       "        vertical-align: middle;\n",
       "    }\n",
       "\n",
       "    .dataframe tbody tr th {\n",
       "        vertical-align: top;\n",
       "    }\n",
       "\n",
       "    .dataframe thead th {\n",
       "        text-align: right;\n",
       "    }\n",
       "</style>\n",
       "<table border=\"1\" class=\"dataframe\">\n",
       "  <thead>\n",
       "    <tr style=\"text-align: right;\">\n",
       "      <th></th>\n",
       "      <th>movie</th>\n",
       "      <th>year</th>\n",
       "    </tr>\n",
       "  </thead>\n",
       "  <tbody>\n",
       "    <tr>\n",
       "      <th>0</th>\n",
       "      <td>Okja</td>\n",
       "      <td>2017</td>\n",
       "    </tr>\n",
       "  </tbody>\n",
       "</table>\n",
       "</div>"
      ],
      "text/plain": [
       "  movie  year\n",
       "0  Okja  2017"
      ]
     },
     "execution_count": 125,
     "metadata": {},
     "output_type": "execute_result"
    }
   ],
   "source": [
    "df = MovieDF.single_movie(\"Okja\", 2017)"
   ]
  },
  {
   "cell_type": "code",
   "execution_count": 116,
   "id": "eb9416bd",
   "metadata": {},
   "outputs": [
    {
     "data": {
      "text/html": [
       "<div>\n",
       "<style scoped>\n",
       "    .dataframe tbody tr th:only-of-type {\n",
       "        vertical-align: middle;\n",
       "    }\n",
       "\n",
       "    .dataframe tbody tr th {\n",
       "        vertical-align: top;\n",
       "    }\n",
       "\n",
       "    .dataframe thead th {\n",
       "        text-align: right;\n",
       "    }\n",
       "</style>\n",
       "<table border=\"1\" class=\"dataframe\">\n",
       "  <thead>\n",
       "    <tr style=\"text-align: right;\">\n",
       "      <th></th>\n",
       "      <th>movie</th>\n",
       "      <th>year</th>\n",
       "      <th>id</th>\n",
       "    </tr>\n",
       "  </thead>\n",
       "  <tbody>\n",
       "    <tr>\n",
       "      <th>0</th>\n",
       "      <td>Okja</td>\n",
       "      <td>2017</td>\n",
       "      <td>387426</td>\n",
       "    </tr>\n",
       "  </tbody>\n",
       "</table>\n",
       "</div>"
      ],
      "text/plain": [
       "  movie  year      id\n",
       "0  Okja  2017  387426"
      ]
     },
     "execution_count": 116,
     "metadata": {},
     "output_type": "execute_result"
    }
   ],
   "source": [
    "mdf.get_id_column"
   ]
  },
  {
   "cell_type": "code",
   "execution_count": 117,
   "id": "d5c84d89",
   "metadata": {},
   "outputs": [
    {
     "data": {
      "text/html": [
       "<div>\n",
       "<style scoped>\n",
       "    .dataframe tbody tr th:only-of-type {\n",
       "        vertical-align: middle;\n",
       "    }\n",
       "\n",
       "    .dataframe tbody tr th {\n",
       "        vertical-align: top;\n",
       "    }\n",
       "\n",
       "    .dataframe thead th {\n",
       "        text-align: right;\n",
       "    }\n",
       "</style>\n",
       "<table border=\"1\" class=\"dataframe\">\n",
       "  <thead>\n",
       "    <tr style=\"text-align: right;\">\n",
       "      <th></th>\n",
       "      <th>movie</th>\n",
       "      <th>year</th>\n",
       "      <th>id</th>\n",
       "    </tr>\n",
       "  </thead>\n",
       "  <tbody>\n",
       "    <tr>\n",
       "      <th>0</th>\n",
       "      <td>Okja</td>\n",
       "      <td>2017</td>\n",
       "      <td>387426</td>\n",
       "    </tr>\n",
       "  </tbody>\n",
       "</table>\n",
       "</div>"
      ],
      "text/plain": [
       "  movie  year      id\n",
       "0  Okja  2017  387426"
      ]
     },
     "execution_count": 117,
     "metadata": {},
     "output_type": "execute_result"
    }
   ],
   "source": [
    "mdf"
   ]
  },
  {
   "cell_type": "code",
   "execution_count": 118,
   "id": "0667d361",
   "metadata": {},
   "outputs": [
    {
     "data": {
      "text/html": [
       "<div>\n",
       "<style scoped>\n",
       "    .dataframe tbody tr th:only-of-type {\n",
       "        vertical-align: middle;\n",
       "    }\n",
       "\n",
       "    .dataframe tbody tr th {\n",
       "        vertical-align: top;\n",
       "    }\n",
       "\n",
       "    .dataframe thead th {\n",
       "        text-align: right;\n",
       "    }\n",
       "</style>\n",
       "<table border=\"1\" class=\"dataframe\">\n",
       "  <thead>\n",
       "    <tr style=\"text-align: right;\">\n",
       "      <th></th>\n",
       "      <th>movie</th>\n",
       "      <th>year</th>\n",
       "      <th>id</th>\n",
       "      <th>runtime</th>\n",
       "    </tr>\n",
       "  </thead>\n",
       "  <tbody>\n",
       "    <tr>\n",
       "      <th>0</th>\n",
       "      <td>Okja</td>\n",
       "      <td>2017</td>\n",
       "      <td>387426</td>\n",
       "      <td>122</td>\n",
       "    </tr>\n",
       "  </tbody>\n",
       "</table>\n",
       "</div>"
      ],
      "text/plain": [
       "  movie  year      id  runtime\n",
       "0  Okja  2017  387426      122"
      ]
     },
     "execution_count": 118,
     "metadata": {},
     "output_type": "execute_result"
    }
   ],
   "source": [
    "mdf.add_new_column(column_name = \"runtime\")"
   ]
  },
  {
   "cell_type": "code",
   "execution_count": 119,
   "id": "ef6d504f",
   "metadata": {},
   "outputs": [
    {
     "data": {
      "text/html": [
       "<div>\n",
       "<style scoped>\n",
       "    .dataframe tbody tr th:only-of-type {\n",
       "        vertical-align: middle;\n",
       "    }\n",
       "\n",
       "    .dataframe tbody tr th {\n",
       "        vertical-align: top;\n",
       "    }\n",
       "\n",
       "    .dataframe thead th {\n",
       "        text-align: right;\n",
       "    }\n",
       "</style>\n",
       "<table border=\"1\" class=\"dataframe\">\n",
       "  <thead>\n",
       "    <tr style=\"text-align: right;\">\n",
       "      <th></th>\n",
       "      <th>movie</th>\n",
       "      <th>year</th>\n",
       "      <th>id</th>\n",
       "      <th>runtime</th>\n",
       "      <th>genres</th>\n",
       "    </tr>\n",
       "  </thead>\n",
       "  <tbody>\n",
       "    <tr>\n",
       "      <th>0</th>\n",
       "      <td>Okja</td>\n",
       "      <td>2017</td>\n",
       "      <td>387426</td>\n",
       "      <td>122</td>\n",
       "      <td>[{'id': 12, 'name': 'Adventure'}, {'id': 18, '...</td>\n",
       "    </tr>\n",
       "  </tbody>\n",
       "</table>\n",
       "</div>"
      ],
      "text/plain": [
       "  movie  year      id  runtime  \\\n",
       "0  Okja  2017  387426      122   \n",
       "\n",
       "                                              genres  \n",
       "0  [{'id': 12, 'name': 'Adventure'}, {'id': 18, '...  "
      ]
     },
     "execution_count": 119,
     "metadata": {},
     "output_type": "execute_result"
    }
   ],
   "source": [
    "mdf.add_new_column(\"genres\")"
   ]
  },
  {
   "cell_type": "code",
   "execution_count": 120,
   "id": "ead46db6",
   "metadata": {},
   "outputs": [
    {
     "data": {
      "text/html": [
       "<div>\n",
       "<style scoped>\n",
       "    .dataframe tbody tr th:only-of-type {\n",
       "        vertical-align: middle;\n",
       "    }\n",
       "\n",
       "    .dataframe tbody tr th {\n",
       "        vertical-align: top;\n",
       "    }\n",
       "\n",
       "    .dataframe thead th {\n",
       "        text-align: right;\n",
       "    }\n",
       "</style>\n",
       "<table border=\"1\" class=\"dataframe\">\n",
       "  <thead>\n",
       "    <tr style=\"text-align: right;\">\n",
       "      <th></th>\n",
       "      <th>movie</th>\n",
       "      <th>year</th>\n",
       "      <th>id</th>\n",
       "      <th>runtime</th>\n",
       "      <th>genres_1</th>\n",
       "      <th>genres_2</th>\n",
       "    </tr>\n",
       "  </thead>\n",
       "  <tbody>\n",
       "    <tr>\n",
       "      <th>0</th>\n",
       "      <td>Okja</td>\n",
       "      <td>2017</td>\n",
       "      <td>387426</td>\n",
       "      <td>122</td>\n",
       "      <td>Adventure</td>\n",
       "      <td>Drama</td>\n",
       "    </tr>\n",
       "  </tbody>\n",
       "</table>\n",
       "</div>"
      ],
      "text/plain": [
       "  movie  year      id  runtime   genres_1 genres_2\n",
       "0  Okja  2017  387426      122  Adventure    Drama"
      ]
     },
     "execution_count": 120,
     "metadata": {},
     "output_type": "execute_result"
    }
   ],
   "source": [
    "mdf.flat_column(column = \"genres\")"
   ]
  },
  {
   "cell_type": "code",
   "execution_count": 121,
   "id": "1d3d61de",
   "metadata": {},
   "outputs": [
    {
     "data": {
      "text/plain": [
       "datetime.datetime(2021, 12, 3, 18, 12, 56, 175528)"
      ]
     },
     "execution_count": 121,
     "metadata": {},
     "output_type": "execute_result"
    }
   ],
   "source": [
    "mdf.created_at"
   ]
  },
  {
   "cell_type": "code",
   "execution_count": 122,
   "id": "a78b310f",
   "metadata": {},
   "outputs": [
    {
     "data": {
      "text/html": [
       "<div>\n",
       "<style scoped>\n",
       "    .dataframe tbody tr th:only-of-type {\n",
       "        vertical-align: middle;\n",
       "    }\n",
       "\n",
       "    .dataframe tbody tr th {\n",
       "        vertical-align: top;\n",
       "    }\n",
       "\n",
       "    .dataframe thead th {\n",
       "        text-align: right;\n",
       "    }\n",
       "</style>\n",
       "<table border=\"1\" class=\"dataframe\">\n",
       "  <thead>\n",
       "    <tr style=\"text-align: right;\">\n",
       "      <th></th>\n",
       "      <th>movie</th>\n",
       "      <th>year</th>\n",
       "      <th>id</th>\n",
       "      <th>runtime</th>\n",
       "      <th>genres_1</th>\n",
       "      <th>genres_2</th>\n",
       "      <th>imdb_id</th>\n",
       "    </tr>\n",
       "  </thead>\n",
       "  <tbody>\n",
       "    <tr>\n",
       "      <th>0</th>\n",
       "      <td>Okja</td>\n",
       "      <td>2017</td>\n",
       "      <td>387426</td>\n",
       "      <td>122</td>\n",
       "      <td>Adventure</td>\n",
       "      <td>Drama</td>\n",
       "      <td>tt3967856</td>\n",
       "    </tr>\n",
       "  </tbody>\n",
       "</table>\n",
       "</div>"
      ],
      "text/plain": [
       "  movie  year      id  runtime   genres_1 genres_2    imdb_id\n",
       "0  Okja  2017  387426      122  Adventure    Drama  tt3967856"
      ]
     },
     "execution_count": 122,
     "metadata": {},
     "output_type": "execute_result"
    }
   ],
   "source": [
    "mdf.add_new_column(\"imdb_id\")"
   ]
  },
  {
   "cell_type": "code",
   "execution_count": 123,
   "id": "255c13ee",
   "metadata": {},
   "outputs": [
    {
     "data": {
      "text/html": [
       "<div>\n",
       "<style scoped>\n",
       "    .dataframe tbody tr th:only-of-type {\n",
       "        vertical-align: middle;\n",
       "    }\n",
       "\n",
       "    .dataframe tbody tr th {\n",
       "        vertical-align: top;\n",
       "    }\n",
       "\n",
       "    .dataframe thead th {\n",
       "        text-align: right;\n",
       "    }\n",
       "</style>\n",
       "<table border=\"1\" class=\"dataframe\">\n",
       "  <thead>\n",
       "    <tr style=\"text-align: right;\">\n",
       "      <th></th>\n",
       "      <th>movie</th>\n",
       "      <th>year</th>\n",
       "      <th>id</th>\n",
       "      <th>runtime</th>\n",
       "      <th>genres_1</th>\n",
       "      <th>genres_2</th>\n",
       "      <th>imdb_id</th>\n",
       "      <th>production_countries</th>\n",
       "    </tr>\n",
       "  </thead>\n",
       "  <tbody>\n",
       "    <tr>\n",
       "      <th>0</th>\n",
       "      <td>Okja</td>\n",
       "      <td>2017</td>\n",
       "      <td>387426</td>\n",
       "      <td>122</td>\n",
       "      <td>Adventure</td>\n",
       "      <td>Drama</td>\n",
       "      <td>tt3967856</td>\n",
       "      <td>[{'iso_3166_1': 'KR', 'name': 'South Korea'}, ...</td>\n",
       "    </tr>\n",
       "  </tbody>\n",
       "</table>\n",
       "</div>"
      ],
      "text/plain": [
       "  movie  year      id  runtime   genres_1 genres_2    imdb_id  \\\n",
       "0  Okja  2017  387426      122  Adventure    Drama  tt3967856   \n",
       "\n",
       "                                production_countries  \n",
       "0  [{'iso_3166_1': 'KR', 'name': 'South Korea'}, ...  "
      ]
     },
     "execution_count": 123,
     "metadata": {},
     "output_type": "execute_result"
    }
   ],
   "source": [
    "mdf.add_new_column(\"production_countries\")"
   ]
  },
  {
   "cell_type": "code",
   "execution_count": 124,
   "id": "48580332",
   "metadata": {},
   "outputs": [
    {
     "data": {
      "text/html": [
       "<div>\n",
       "<style scoped>\n",
       "    .dataframe tbody tr th:only-of-type {\n",
       "        vertical-align: middle;\n",
       "    }\n",
       "\n",
       "    .dataframe tbody tr th {\n",
       "        vertical-align: top;\n",
       "    }\n",
       "\n",
       "    .dataframe thead th {\n",
       "        text-align: right;\n",
       "    }\n",
       "</style>\n",
       "<table border=\"1\" class=\"dataframe\">\n",
       "  <thead>\n",
       "    <tr style=\"text-align: right;\">\n",
       "      <th></th>\n",
       "      <th>movie</th>\n",
       "      <th>year</th>\n",
       "      <th>id</th>\n",
       "      <th>runtime</th>\n",
       "      <th>genres_1</th>\n",
       "      <th>genres_2</th>\n",
       "      <th>imdb_id</th>\n",
       "      <th>production_countries_1</th>\n",
       "      <th>production_countries_2</th>\n",
       "    </tr>\n",
       "  </thead>\n",
       "  <tbody>\n",
       "    <tr>\n",
       "      <th>0</th>\n",
       "      <td>Okja</td>\n",
       "      <td>2017</td>\n",
       "      <td>387426</td>\n",
       "      <td>122</td>\n",
       "      <td>Adventure</td>\n",
       "      <td>Drama</td>\n",
       "      <td>tt3967856</td>\n",
       "      <td>South Korea</td>\n",
       "      <td>United States of America</td>\n",
       "    </tr>\n",
       "  </tbody>\n",
       "</table>\n",
       "</div>"
      ],
      "text/plain": [
       "  movie  year      id  runtime   genres_1 genres_2    imdb_id  \\\n",
       "0  Okja  2017  387426      122  Adventure    Drama  tt3967856   \n",
       "\n",
       "  production_countries_1    production_countries_2  \n",
       "0            South Korea  United States of America  "
      ]
     },
     "execution_count": 124,
     "metadata": {},
     "output_type": "execute_result"
    }
   ],
   "source": [
    "mdf.flat_column(\"production_countries\")"
   ]
  },
  {
   "cell_type": "code",
   "execution_count": null,
   "id": "05d1ff3a",
   "metadata": {},
   "outputs": [],
   "source": []
  }
 ],
 "metadata": {
  "kernelspec": {
   "display_name": "Python 3",
   "language": "python",
   "name": "python3"
  },
  "language_info": {
   "codemirror_mode": {
    "name": "ipython",
    "version": 3
   },
   "file_extension": ".py",
   "mimetype": "text/x-python",
   "name": "python",
   "nbconvert_exporter": "python",
   "pygments_lexer": "ipython3",
   "version": "3.8.8"
  }
 },
 "nbformat": 4,
 "nbformat_minor": 5
}
