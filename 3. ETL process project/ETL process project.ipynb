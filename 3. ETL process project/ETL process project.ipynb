{
 "cells": [
  {
   "cell_type": "markdown",
   "id": "8d191b7c",
   "metadata": {},
   "source": [
    "# ETL process project\n",
    "\n",
    "The main idea is to apply an ETL (Extract, Transform and Load) process in a reduced scale, using python and handling diverse file formats (.csv, .json). \n",
    "\n",
    "The taks is to build a dataset containing the 50 biggest companies in the world by revenue including their revenue in diverse currencies (USD, EUR, GDP, JPY, BRL, ARS) and two columns with data from the company's country of origin.\n",
    "\n",
    "To accomplish this task, the project is divided in three main sections:\n",
    "\n",
    "**1. Extract**: data from different sources is collected and extracted into our local environment.\n",
    "- **Web scraping:** a list of the 50 largest companies by revenue is scraped from Wikipedia using the library \"Beautiful Soup\".\n",
    "\n",
    "Link: https://en.wikipedia.org/wiki/List_of_largest_companies_by_revenue\n",
    "\n",
    "- **API communication:** the exchange rate from EUR to diverse currencies are downloaded in a .json format from \"Exchange rates\" api\n",
    "\n",
    "Link: http://api.exchangeratesapi.io\n",
    "\n",
    "- **Downloading datasets:** two datasets (population, gdp per capita) are downloaded from Gapminder.\n",
    "\n",
    "Link: https://www.gapminder.org/data/\n",
    "\n",
    "> Two different modules (***collect_data.py*** and ***etl_module.py***) are written to perform the operations on this section\n",
    "\n",
    "**2. Transform:** some data manipulation operations are carried on to build the main .csv file\n",
    "- Data cleaning\n",
    "- Currency conversion\n",
    "- Merging\n",
    "\n",
    "**3. Load:*** export the resulting DataFrame to a unique .csv file called \"final_dataset.csv\".\n",
    "> To load the dataset into a RDMBS data can be normalized.\n",
    "\n",
    "##### Import modules"
   ]
  },
  {
   "cell_type": "code",
   "execution_count": 1,
   "id": "835bf6aa",
   "metadata": {},
   "outputs": [
    {
     "name": "stdout",
     "output_type": "stream",
     "text": [
      "2022-Apr-18-20:20:34, ETL Job Started\n",
      "\n"
     ]
    }
   ],
   "source": [
    "from bs4 import BeautifulSoup\n",
    "import requests\n",
    "import pandas as pd\n",
    "import glob\n",
    "from datetime import datetime\n",
    "from collect_data import scraper, talk_to_api\n",
    "from etl_module import extract_csv, extract, load, log\n",
    "\n",
    "log(\"ETL Job Started\")"
   ]
  },
  {
   "cell_type": "markdown",
   "id": "80aa9ff3",
   "metadata": {},
   "source": [
    "## 1. Extract\n",
    "\n",
    "### 1.1 Web scraping"
   ]
  },
  {
   "cell_type": "code",
   "execution_count": 2,
   "id": "87d652ce",
   "metadata": {},
   "outputs": [
    {
     "name": "stdout",
     "output_type": "stream",
     "text": [
      "2022-Apr-18-20:20:37, Extract phase started\n",
      "\n"
     ]
    }
   ],
   "source": [
    "log(\"Extract phase started\")\n",
    "\n",
    "soup = scraper(\"https://en.wikipedia.org/wiki/List_of_largest_companies_by_revenue\")\n",
    "\n",
    "df = pd.DataFrame(columns=[\"Company\", \"Industry\", \"Revenue (USD millions)\", \"Employees\", \"Country\"])\n",
    "\n",
    "table = soup.find_all(\"tbody\")[0]\n",
    "for row in table.find_all('tr'):\n",
    "    col = row.find_all('td')\n",
    "    if col != []:\n",
    "        company = col[0].text.strip()\n",
    "        industry = col[1].text.strip()\n",
    "        revenue = float(col[2].text.strip().replace(\"$\",\"\").replace(\",\",\".\"))\n",
    "        employees = int(col[4].text.strip().replace(\",\",\"\"))\n",
    "        country = col[5].text.strip()\n",
    "        df = df.append({\"Company\": company, \n",
    "                        \"Industry\": industry, \n",
    "                        \"Revenue (USD millions)\": revenue,\n",
    "                        \"Employees\": employees,\n",
    "                        \"Country\": country}\n",
    "                        , ignore_index=True\n",
    "                      )\n",
    "\n",
    "df.to_csv(\"list_of_largest_companies_by_revenue.csv\")"
   ]
  },
  {
   "cell_type": "markdown",
   "id": "06d9603e",
   "metadata": {},
   "source": [
    "### 1.2. Communicate with the API"
   ]
  },
  {
   "cell_type": "code",
   "execution_count": 3,
   "id": "ade29d1b",
   "metadata": {},
   "outputs": [
    {
     "name": "stdout",
     "output_type": "stream",
     "text": [
      "Status code (if 200 then success):  200\n"
     ]
    }
   ],
   "source": [
    "talk_to_api(key = \"4937cfda4cab4fc7dfc45a0e5ccc882a\", csv_name = \"eur_exchange_rates\")"
   ]
  },
  {
   "cell_type": "markdown",
   "id": "6fb9b41f",
   "metadata": {},
   "source": [
    "### 1.3. Extract files"
   ]
  },
  {
   "cell_type": "code",
   "execution_count": 4,
   "id": "2da5d1f7",
   "metadata": {},
   "outputs": [
    {
     "name": "stdout",
     "output_type": "stream",
     "text": [
      "                    Company                        Industry  \\\n",
      "0                   Walmart                          Retail   \n",
      "1                State Grid                     Electricity   \n",
      "2                    Amazon  Retail, Information Technology   \n",
      "3  China National Petroleum                     Oil and gas   \n",
      "4             Sinopec Group                     Oil and gas   \n",
      "\n",
      "   Revenue (USD millions)  Employees        Country  \n",
      "0                 559.151    2300000  United States  \n",
      "1                 386.617     896360          China  \n",
      "2                 386.064    1608000  United States  \n",
      "3                 283.958    1242245          China  \n",
      "4                 283.728     553833          China  \n",
      "       Rates\n",
      "AED    3.960\n",
      "AFN   94.333\n",
      "ALL  120.850\n",
      "AMD  508.140\n",
      "ANG    1.962\n",
      "                     Population\n",
      "Afghanistan               38.9M\n",
      "Angola                    32.9M\n",
      "Albania                   2.88M\n",
      "Andorra                   77.3k\n",
      "United Arab Emirates      9.89M\n",
      "               GDP\n",
      "Aruba          NaN\n",
      "Afghanistan    553\n",
      "Angola        3210\n",
      "Albania       4420\n",
      "Andorra      34.3k\n"
     ]
    }
   ],
   "source": [
    "# Companies csv\n",
    "companies = extract(\"list_of_largest_companies_by_revenue\", \n",
    "                    columns = [\"Company\", \"Industry\", \"Revenue (USD millions)\", \"Employees\", \"Country\"],\n",
    "                    sep = \",\")\n",
    "print(companies.head())\n",
    "\n",
    "# Exchange rates\n",
    "rates = extract(\"eur_exchange_rates\", columns = [\"Rates\"], sep = \",\")\n",
    "print(rates.head())\n",
    "\n",
    "# Population\n",
    "population = extract(\"population_total\", columns = [\"Population\"], sep = \";\")\n",
    "print(population.head())\n",
    "\n",
    "# GDP\n",
    "gdp = extract(\"gdppercapita_us_inflation_adjusted\", columns = [\"GDP\"], sep = \";\")\n",
    "print(gdp.head())"
   ]
  },
  {
   "cell_type": "code",
   "execution_count": 5,
   "id": "a7f6d825",
   "metadata": {},
   "outputs": [
    {
     "name": "stdout",
     "output_type": "stream",
     "text": [
      "2022-Apr-18-20:20:47, Extract phase finished\n",
      "\n"
     ]
    }
   ],
   "source": [
    "log(\"Extract phase finished\")"
   ]
  },
  {
   "cell_type": "markdown",
   "id": "e6535fab",
   "metadata": {},
   "source": [
    "## 2. Transform"
   ]
  },
  {
   "cell_type": "code",
   "execution_count": 6,
   "id": "2e838928",
   "metadata": {},
   "outputs": [
    {
     "name": "stdout",
     "output_type": "stream",
     "text": [
      "2022-Apr-18-20:20:49, Transform phase started\n",
      "\n"
     ]
    }
   ],
   "source": [
    "log(\"Transform phase started\")"
   ]
  },
  {
   "cell_type": "markdown",
   "id": "306352b6",
   "metadata": {},
   "source": [
    "##### Extract currencies"
   ]
  },
  {
   "cell_type": "code",
   "execution_count": 7,
   "id": "1adffdae",
   "metadata": {},
   "outputs": [
    {
     "data": {
      "text/plain": [
       "{'ARS': 123.179, 'BRL': 5.022, 'GBP': 0.828, 'JPY': 136.856, 'USD': 1.078}"
      ]
     },
     "execution_count": 7,
     "metadata": {},
     "output_type": "execute_result"
    }
   ],
   "source": [
    "currencies = [\"ARS\", \"BRL\", \"GBP\", \"USD\", \"JPY\"]\n",
    "currencies_dict = {}\n",
    "\n",
    "for i in rates.index:\n",
    "    if i in currencies:\n",
    "        currencies_dict[i] = rates.loc[i, \"Rates\"]\n",
    "\n",
    "currencies_dict        "
   ]
  },
  {
   "cell_type": "markdown",
   "id": "d170dd19",
   "metadata": {},
   "source": [
    "##### Transform USD to EUR (reference currency)"
   ]
  },
  {
   "cell_type": "code",
   "execution_count": 8,
   "id": "93db80e6",
   "metadata": {},
   "outputs": [
    {
     "data": {
      "text/html": [
       "<div>\n",
       "<style scoped>\n",
       "    .dataframe tbody tr th:only-of-type {\n",
       "        vertical-align: middle;\n",
       "    }\n",
       "\n",
       "    .dataframe tbody tr th {\n",
       "        vertical-align: top;\n",
       "    }\n",
       "\n",
       "    .dataframe thead th {\n",
       "        text-align: right;\n",
       "    }\n",
       "</style>\n",
       "<table border=\"1\" class=\"dataframe\">\n",
       "  <thead>\n",
       "    <tr style=\"text-align: right;\">\n",
       "      <th></th>\n",
       "      <th>Company</th>\n",
       "      <th>Industry</th>\n",
       "      <th>Revenue (USD millions)</th>\n",
       "      <th>Employees</th>\n",
       "      <th>Country</th>\n",
       "      <th>Revenue (EUR millions)</th>\n",
       "    </tr>\n",
       "  </thead>\n",
       "  <tbody>\n",
       "    <tr>\n",
       "      <th>0</th>\n",
       "      <td>Walmart</td>\n",
       "      <td>Retail</td>\n",
       "      <td>559.151</td>\n",
       "      <td>2300000</td>\n",
       "      <td>United States</td>\n",
       "      <td>518.693</td>\n",
       "    </tr>\n",
       "    <tr>\n",
       "      <th>1</th>\n",
       "      <td>State Grid</td>\n",
       "      <td>Electricity</td>\n",
       "      <td>386.617</td>\n",
       "      <td>896360</td>\n",
       "      <td>China</td>\n",
       "      <td>358.643</td>\n",
       "    </tr>\n",
       "    <tr>\n",
       "      <th>2</th>\n",
       "      <td>Amazon</td>\n",
       "      <td>Retail, Information Technology</td>\n",
       "      <td>386.064</td>\n",
       "      <td>1608000</td>\n",
       "      <td>United States</td>\n",
       "      <td>358.130</td>\n",
       "    </tr>\n",
       "    <tr>\n",
       "      <th>3</th>\n",
       "      <td>China National Petroleum</td>\n",
       "      <td>Oil and gas</td>\n",
       "      <td>283.958</td>\n",
       "      <td>1242245</td>\n",
       "      <td>China</td>\n",
       "      <td>263.412</td>\n",
       "    </tr>\n",
       "    <tr>\n",
       "      <th>4</th>\n",
       "      <td>Sinopec Group</td>\n",
       "      <td>Oil and gas</td>\n",
       "      <td>283.728</td>\n",
       "      <td>553833</td>\n",
       "      <td>China</td>\n",
       "      <td>263.199</td>\n",
       "    </tr>\n",
       "  </tbody>\n",
       "</table>\n",
       "</div>"
      ],
      "text/plain": [
       "                    Company                        Industry  \\\n",
       "0                   Walmart                          Retail   \n",
       "1                State Grid                     Electricity   \n",
       "2                    Amazon  Retail, Information Technology   \n",
       "3  China National Petroleum                     Oil and gas   \n",
       "4             Sinopec Group                     Oil and gas   \n",
       "\n",
       "   Revenue (USD millions)  Employees        Country  Revenue (EUR millions)  \n",
       "0                 559.151    2300000  United States                 518.693  \n",
       "1                 386.617     896360          China                 358.643  \n",
       "2                 386.064    1608000  United States                 358.130  \n",
       "3                 283.958    1242245          China                 263.412  \n",
       "4                 283.728     553833          China                 263.199  "
      ]
     },
     "execution_count": 8,
     "metadata": {},
     "output_type": "execute_result"
    }
   ],
   "source": [
    "companies[\"Revenue (EUR millions)\"] = round(companies[\"Revenue (USD millions)\"] / currencies_dict[\"USD\"], 3)\n",
    "companies.head()"
   ]
  },
  {
   "cell_type": "markdown",
   "id": "99d99455",
   "metadata": {},
   "source": [
    "##### Build other columns"
   ]
  },
  {
   "cell_type": "code",
   "execution_count": 9,
   "id": "25dc8d88",
   "metadata": {},
   "outputs": [
    {
     "data": {
      "text/html": [
       "<div>\n",
       "<style scoped>\n",
       "    .dataframe tbody tr th:only-of-type {\n",
       "        vertical-align: middle;\n",
       "    }\n",
       "\n",
       "    .dataframe tbody tr th {\n",
       "        vertical-align: top;\n",
       "    }\n",
       "\n",
       "    .dataframe thead th {\n",
       "        text-align: right;\n",
       "    }\n",
       "</style>\n",
       "<table border=\"1\" class=\"dataframe\">\n",
       "  <thead>\n",
       "    <tr style=\"text-align: right;\">\n",
       "      <th></th>\n",
       "      <th>Company</th>\n",
       "      <th>Industry</th>\n",
       "      <th>Revenue (USD millions)</th>\n",
       "      <th>Employees</th>\n",
       "      <th>Country</th>\n",
       "      <th>Revenue (EUR millions)</th>\n",
       "      <th>Revenue (ARS millions)</th>\n",
       "      <th>Revenue (BRL millions)</th>\n",
       "      <th>Revenue (GBP millions)</th>\n",
       "      <th>Revenue (JPY millions)</th>\n",
       "    </tr>\n",
       "  </thead>\n",
       "  <tbody>\n",
       "    <tr>\n",
       "      <th>0</th>\n",
       "      <td>Walmart</td>\n",
       "      <td>Retail</td>\n",
       "      <td>559.151</td>\n",
       "      <td>2300000</td>\n",
       "      <td>United States</td>\n",
       "      <td>518.693</td>\n",
       "      <td>63892.085</td>\n",
       "      <td>2604.876</td>\n",
       "      <td>429.478</td>\n",
       "      <td>70986.249</td>\n",
       "    </tr>\n",
       "    <tr>\n",
       "      <th>1</th>\n",
       "      <td>State Grid</td>\n",
       "      <td>Electricity</td>\n",
       "      <td>386.617</td>\n",
       "      <td>896360</td>\n",
       "      <td>China</td>\n",
       "      <td>358.643</td>\n",
       "      <td>44177.286</td>\n",
       "      <td>1801.105</td>\n",
       "      <td>296.956</td>\n",
       "      <td>49082.446</td>\n",
       "    </tr>\n",
       "    <tr>\n",
       "      <th>2</th>\n",
       "      <td>Amazon</td>\n",
       "      <td>Retail, Information Technology</td>\n",
       "      <td>386.064</td>\n",
       "      <td>1608000</td>\n",
       "      <td>United States</td>\n",
       "      <td>358.130</td>\n",
       "      <td>44114.095</td>\n",
       "      <td>1798.529</td>\n",
       "      <td>296.532</td>\n",
       "      <td>49012.239</td>\n",
       "    </tr>\n",
       "    <tr>\n",
       "      <th>3</th>\n",
       "      <td>China National Petroleum</td>\n",
       "      <td>Oil and gas</td>\n",
       "      <td>283.958</td>\n",
       "      <td>1242245</td>\n",
       "      <td>China</td>\n",
       "      <td>263.412</td>\n",
       "      <td>32446.827</td>\n",
       "      <td>1322.855</td>\n",
       "      <td>218.105</td>\n",
       "      <td>36049.513</td>\n",
       "    </tr>\n",
       "    <tr>\n",
       "      <th>4</th>\n",
       "      <td>Sinopec Group</td>\n",
       "      <td>Oil and gas</td>\n",
       "      <td>283.728</td>\n",
       "      <td>553833</td>\n",
       "      <td>China</td>\n",
       "      <td>263.199</td>\n",
       "      <td>32420.590</td>\n",
       "      <td>1321.785</td>\n",
       "      <td>217.929</td>\n",
       "      <td>36020.362</td>\n",
       "    </tr>\n",
       "  </tbody>\n",
       "</table>\n",
       "</div>"
      ],
      "text/plain": [
       "                    Company                        Industry  \\\n",
       "0                   Walmart                          Retail   \n",
       "1                State Grid                     Electricity   \n",
       "2                    Amazon  Retail, Information Technology   \n",
       "3  China National Petroleum                     Oil and gas   \n",
       "4             Sinopec Group                     Oil and gas   \n",
       "\n",
       "   Revenue (USD millions)  Employees        Country  Revenue (EUR millions)  \\\n",
       "0                 559.151    2300000  United States                 518.693   \n",
       "1                 386.617     896360          China                 358.643   \n",
       "2                 386.064    1608000  United States                 358.130   \n",
       "3                 283.958    1242245          China                 263.412   \n",
       "4                 283.728     553833          China                 263.199   \n",
       "\n",
       "   Revenue (ARS millions)  Revenue (BRL millions)  Revenue (GBP millions)  \\\n",
       "0               63892.085                2604.876                 429.478   \n",
       "1               44177.286                1801.105                 296.956   \n",
       "2               44114.095                1798.529                 296.532   \n",
       "3               32446.827                1322.855                 218.105   \n",
       "4               32420.590                1321.785                 217.929   \n",
       "\n",
       "   Revenue (JPY millions)  \n",
       "0               70986.249  \n",
       "1               49082.446  \n",
       "2               49012.239  \n",
       "3               36049.513  \n",
       "4               36020.362  "
      ]
     },
     "execution_count": 9,
     "metadata": {},
     "output_type": "execute_result"
    }
   ],
   "source": [
    "currencies.remove(\"USD\")\n",
    "for currency in currencies:\n",
    "    companies[f\"Revenue ({currency} millions)\"] = round(companies[\"Revenue (EUR millions)\"] * currencies_dict[currency], 3)\n",
    "\n",
    "companies.head()"
   ]
  },
  {
   "cell_type": "markdown",
   "id": "d2955102",
   "metadata": {},
   "source": [
    "##### Data cleaning: population and gdp"
   ]
  },
  {
   "cell_type": "code",
   "execution_count": 10,
   "id": "26e5178f",
   "metadata": {},
   "outputs": [
    {
     "data": {
      "text/plain": [
       "array(['United States', 'China', 'Japan', 'Germany', 'Saudi Arabia',\n",
       "       'South Korea', 'United Kingdom', 'Netherlands', 'Taiwan',\n",
       "       'Singapore', 'Switzerland', 'France'], dtype=object)"
      ]
     },
     "execution_count": 10,
     "metadata": {},
     "output_type": "execute_result"
    }
   ],
   "source": [
    "# Select countries of interest\n",
    "countries = companies[\"Country\"].unique()\n",
    "countries"
   ]
  },
  {
   "cell_type": "code",
   "execution_count": 11,
   "id": "1ffab541",
   "metadata": {},
   "outputs": [
    {
     "data": {
      "text/plain": [
       "{'United States': 331000000,\n",
       " 'China': 1440000000,\n",
       " 'Japan': 126000000,\n",
       " 'Germany': 83800000,\n",
       " 'Saudi Arabia': 34800000,\n",
       " 'South Korea': 51300000,\n",
       " 'United Kingdom': 67900000,\n",
       " 'Netherlands': 17100000,\n",
       " 'Taiwan': 23800000,\n",
       " 'Singapore': 58500000,\n",
       " 'Switzerland': 86500000,\n",
       " 'France': 65300000}"
      ]
     },
     "execution_count": 11,
     "metadata": {},
     "output_type": "execute_result"
    }
   ],
   "source": [
    "# Get and clean values from populations\n",
    "population_dict = {}\n",
    "for country in countries:\n",
    "    value = population.loc[country, \"Population\"]\n",
    "    if '.' in value:\n",
    "        value = value.replace(\"M\", \"00000\").replace(\"B\", \"0000000\").replace(\".\", \"\")\n",
    "        population_dict[country] = int(value)\n",
    "    else:\n",
    "        value = value.replace(\"M\", \"000000\")\n",
    "        population_dict[country] = int(value)\n",
    "\n",
    "population_dict"
   ]
  },
  {
   "cell_type": "code",
   "execution_count": 12,
   "id": "ba4b8a01",
   "metadata": {},
   "outputs": [
    {
     "data": {
      "text/html": [
       "<div>\n",
       "<style scoped>\n",
       "    .dataframe tbody tr th:only-of-type {\n",
       "        vertical-align: middle;\n",
       "    }\n",
       "\n",
       "    .dataframe tbody tr th {\n",
       "        vertical-align: top;\n",
       "    }\n",
       "\n",
       "    .dataframe thead th {\n",
       "        text-align: right;\n",
       "    }\n",
       "</style>\n",
       "<table border=\"1\" class=\"dataframe\">\n",
       "  <thead>\n",
       "    <tr style=\"text-align: right;\">\n",
       "      <th></th>\n",
       "      <th>Company</th>\n",
       "      <th>Industry</th>\n",
       "      <th>Revenue (USD millions)</th>\n",
       "      <th>Employees</th>\n",
       "      <th>Country</th>\n",
       "      <th>Revenue (EUR millions)</th>\n",
       "      <th>Revenue (ARS millions)</th>\n",
       "      <th>Revenue (BRL millions)</th>\n",
       "      <th>Revenue (GBP millions)</th>\n",
       "      <th>Revenue (JPY millions)</th>\n",
       "      <th>Population</th>\n",
       "    </tr>\n",
       "  </thead>\n",
       "  <tbody>\n",
       "    <tr>\n",
       "      <th>0</th>\n",
       "      <td>Walmart</td>\n",
       "      <td>Retail</td>\n",
       "      <td>559.151</td>\n",
       "      <td>2300000</td>\n",
       "      <td>United States</td>\n",
       "      <td>518.693</td>\n",
       "      <td>63892.085</td>\n",
       "      <td>2604.876</td>\n",
       "      <td>429.478</td>\n",
       "      <td>70986.249</td>\n",
       "      <td>331000000</td>\n",
       "    </tr>\n",
       "    <tr>\n",
       "      <th>1</th>\n",
       "      <td>State Grid</td>\n",
       "      <td>Electricity</td>\n",
       "      <td>386.617</td>\n",
       "      <td>896360</td>\n",
       "      <td>China</td>\n",
       "      <td>358.643</td>\n",
       "      <td>44177.286</td>\n",
       "      <td>1801.105</td>\n",
       "      <td>296.956</td>\n",
       "      <td>49082.446</td>\n",
       "      <td>1440000000</td>\n",
       "    </tr>\n",
       "    <tr>\n",
       "      <th>2</th>\n",
       "      <td>Amazon</td>\n",
       "      <td>Retail, Information Technology</td>\n",
       "      <td>386.064</td>\n",
       "      <td>1608000</td>\n",
       "      <td>United States</td>\n",
       "      <td>358.130</td>\n",
       "      <td>44114.095</td>\n",
       "      <td>1798.529</td>\n",
       "      <td>296.532</td>\n",
       "      <td>49012.239</td>\n",
       "      <td>331000000</td>\n",
       "    </tr>\n",
       "    <tr>\n",
       "      <th>3</th>\n",
       "      <td>China National Petroleum</td>\n",
       "      <td>Oil and gas</td>\n",
       "      <td>283.958</td>\n",
       "      <td>1242245</td>\n",
       "      <td>China</td>\n",
       "      <td>263.412</td>\n",
       "      <td>32446.827</td>\n",
       "      <td>1322.855</td>\n",
       "      <td>218.105</td>\n",
       "      <td>36049.513</td>\n",
       "      <td>1440000000</td>\n",
       "    </tr>\n",
       "    <tr>\n",
       "      <th>4</th>\n",
       "      <td>Sinopec Group</td>\n",
       "      <td>Oil and gas</td>\n",
       "      <td>283.728</td>\n",
       "      <td>553833</td>\n",
       "      <td>China</td>\n",
       "      <td>263.199</td>\n",
       "      <td>32420.590</td>\n",
       "      <td>1321.785</td>\n",
       "      <td>217.929</td>\n",
       "      <td>36020.362</td>\n",
       "      <td>1440000000</td>\n",
       "    </tr>\n",
       "  </tbody>\n",
       "</table>\n",
       "</div>"
      ],
      "text/plain": [
       "                    Company                        Industry  \\\n",
       "0                   Walmart                          Retail   \n",
       "1                State Grid                     Electricity   \n",
       "2                    Amazon  Retail, Information Technology   \n",
       "3  China National Petroleum                     Oil and gas   \n",
       "4             Sinopec Group                     Oil and gas   \n",
       "\n",
       "   Revenue (USD millions)  Employees        Country  Revenue (EUR millions)  \\\n",
       "0                 559.151    2300000  United States                 518.693   \n",
       "1                 386.617     896360          China                 358.643   \n",
       "2                 386.064    1608000  United States                 358.130   \n",
       "3                 283.958    1242245          China                 263.412   \n",
       "4                 283.728     553833          China                 263.199   \n",
       "\n",
       "   Revenue (ARS millions)  Revenue (BRL millions)  Revenue (GBP millions)  \\\n",
       "0               63892.085                2604.876                 429.478   \n",
       "1               44177.286                1801.105                 296.956   \n",
       "2               44114.095                1798.529                 296.532   \n",
       "3               32446.827                1322.855                 218.105   \n",
       "4               32420.590                1321.785                 217.929   \n",
       "\n",
       "   Revenue (JPY millions)  Population  \n",
       "0               70986.249   331000000  \n",
       "1               49082.446  1440000000  \n",
       "2               49012.239   331000000  \n",
       "3               36049.513  1440000000  \n",
       "4               36020.362  1440000000  "
      ]
     },
     "execution_count": 12,
     "metadata": {},
     "output_type": "execute_result"
    }
   ],
   "source": [
    "# Build the column \"Population\"\n",
    "companies[\"Population\"] = [population_dict[country] for country in df[\"Country\"]]\n",
    "companies.head()"
   ]
  },
  {
   "cell_type": "code",
   "execution_count": 13,
   "id": "3a3f1e98",
   "metadata": {},
   "outputs": [
    {
     "data": {
      "text/plain": [
       "{'United States': 58500,\n",
       " 'China': 10400,\n",
       " 'Japan': 34400,\n",
       " 'Germany': 41300,\n",
       " 'Saudi Arabia': 18700,\n",
       " 'South Korea': 31300,\n",
       " 'United Kingdom': 41800,\n",
       " 'Netherlands': 46300,\n",
       " 'Taiwan': 33004,\n",
       " 'Singapore': 58100,\n",
       " 'Switzerland': 85700,\n",
       " 'France': 35800}"
      ]
     },
     "execution_count": 13,
     "metadata": {},
     "output_type": "execute_result"
    }
   ],
   "source": [
    "# Get and clean values from gdp\n",
    "gdp_dict = {}\n",
    "for country in countries:\n",
    "    try:\n",
    "        value = gdp.loc[country, \"GDP\"]\n",
    "        gdp_dict[country] = int(value.replace(\".\", \"\").replace(\"k\", \"00\"))\n",
    "    except:\n",
    "        # Taiwan GDP: 33004 (Wikipedia)\n",
    "        gdp_dict[country] = 33004\n",
    "    \n",
    "gdp_dict"
   ]
  },
  {
   "cell_type": "code",
   "execution_count": 14,
   "id": "eb707bcb",
   "metadata": {},
   "outputs": [
    {
     "data": {
      "text/html": [
       "<div>\n",
       "<style scoped>\n",
       "    .dataframe tbody tr th:only-of-type {\n",
       "        vertical-align: middle;\n",
       "    }\n",
       "\n",
       "    .dataframe tbody tr th {\n",
       "        vertical-align: top;\n",
       "    }\n",
       "\n",
       "    .dataframe thead th {\n",
       "        text-align: right;\n",
       "    }\n",
       "</style>\n",
       "<table border=\"1\" class=\"dataframe\">\n",
       "  <thead>\n",
       "    <tr style=\"text-align: right;\">\n",
       "      <th></th>\n",
       "      <th>Company</th>\n",
       "      <th>Industry</th>\n",
       "      <th>Revenue (USD millions)</th>\n",
       "      <th>Employees</th>\n",
       "      <th>Country</th>\n",
       "      <th>Revenue (EUR millions)</th>\n",
       "      <th>Revenue (ARS millions)</th>\n",
       "      <th>Revenue (BRL millions)</th>\n",
       "      <th>Revenue (GBP millions)</th>\n",
       "      <th>Revenue (JPY millions)</th>\n",
       "      <th>Population</th>\n",
       "      <th>GDP</th>\n",
       "    </tr>\n",
       "  </thead>\n",
       "  <tbody>\n",
       "    <tr>\n",
       "      <th>0</th>\n",
       "      <td>Walmart</td>\n",
       "      <td>Retail</td>\n",
       "      <td>559.151</td>\n",
       "      <td>2300000</td>\n",
       "      <td>United States</td>\n",
       "      <td>518.693</td>\n",
       "      <td>63892.085</td>\n",
       "      <td>2604.876</td>\n",
       "      <td>429.478</td>\n",
       "      <td>70986.249</td>\n",
       "      <td>331000000</td>\n",
       "      <td>58500</td>\n",
       "    </tr>\n",
       "    <tr>\n",
       "      <th>1</th>\n",
       "      <td>State Grid</td>\n",
       "      <td>Electricity</td>\n",
       "      <td>386.617</td>\n",
       "      <td>896360</td>\n",
       "      <td>China</td>\n",
       "      <td>358.643</td>\n",
       "      <td>44177.286</td>\n",
       "      <td>1801.105</td>\n",
       "      <td>296.956</td>\n",
       "      <td>49082.446</td>\n",
       "      <td>1440000000</td>\n",
       "      <td>10400</td>\n",
       "    </tr>\n",
       "    <tr>\n",
       "      <th>2</th>\n",
       "      <td>Amazon</td>\n",
       "      <td>Retail, Information Technology</td>\n",
       "      <td>386.064</td>\n",
       "      <td>1608000</td>\n",
       "      <td>United States</td>\n",
       "      <td>358.130</td>\n",
       "      <td>44114.095</td>\n",
       "      <td>1798.529</td>\n",
       "      <td>296.532</td>\n",
       "      <td>49012.239</td>\n",
       "      <td>331000000</td>\n",
       "      <td>58500</td>\n",
       "    </tr>\n",
       "    <tr>\n",
       "      <th>3</th>\n",
       "      <td>China National Petroleum</td>\n",
       "      <td>Oil and gas</td>\n",
       "      <td>283.958</td>\n",
       "      <td>1242245</td>\n",
       "      <td>China</td>\n",
       "      <td>263.412</td>\n",
       "      <td>32446.827</td>\n",
       "      <td>1322.855</td>\n",
       "      <td>218.105</td>\n",
       "      <td>36049.513</td>\n",
       "      <td>1440000000</td>\n",
       "      <td>10400</td>\n",
       "    </tr>\n",
       "    <tr>\n",
       "      <th>4</th>\n",
       "      <td>Sinopec Group</td>\n",
       "      <td>Oil and gas</td>\n",
       "      <td>283.728</td>\n",
       "      <td>553833</td>\n",
       "      <td>China</td>\n",
       "      <td>263.199</td>\n",
       "      <td>32420.590</td>\n",
       "      <td>1321.785</td>\n",
       "      <td>217.929</td>\n",
       "      <td>36020.362</td>\n",
       "      <td>1440000000</td>\n",
       "      <td>10400</td>\n",
       "    </tr>\n",
       "  </tbody>\n",
       "</table>\n",
       "</div>"
      ],
      "text/plain": [
       "                    Company                        Industry  \\\n",
       "0                   Walmart                          Retail   \n",
       "1                State Grid                     Electricity   \n",
       "2                    Amazon  Retail, Information Technology   \n",
       "3  China National Petroleum                     Oil and gas   \n",
       "4             Sinopec Group                     Oil and gas   \n",
       "\n",
       "   Revenue (USD millions)  Employees        Country  Revenue (EUR millions)  \\\n",
       "0                 559.151    2300000  United States                 518.693   \n",
       "1                 386.617     896360          China                 358.643   \n",
       "2                 386.064    1608000  United States                 358.130   \n",
       "3                 283.958    1242245          China                 263.412   \n",
       "4                 283.728     553833          China                 263.199   \n",
       "\n",
       "   Revenue (ARS millions)  Revenue (BRL millions)  Revenue (GBP millions)  \\\n",
       "0               63892.085                2604.876                 429.478   \n",
       "1               44177.286                1801.105                 296.956   \n",
       "2               44114.095                1798.529                 296.532   \n",
       "3               32446.827                1322.855                 218.105   \n",
       "4               32420.590                1321.785                 217.929   \n",
       "\n",
       "   Revenue (JPY millions)  Population    GDP  \n",
       "0               70986.249   331000000  58500  \n",
       "1               49082.446  1440000000  10400  \n",
       "2               49012.239   331000000  58500  \n",
       "3               36049.513  1440000000  10400  \n",
       "4               36020.362  1440000000  10400  "
      ]
     },
     "execution_count": 14,
     "metadata": {},
     "output_type": "execute_result"
    }
   ],
   "source": [
    "# Build the column \"GDP\"\n",
    "companies[\"GDP\"] = [gdp_dict[country] for country in df[\"Country\"]]\n",
    "companies.head()"
   ]
  },
  {
   "cell_type": "code",
   "execution_count": 15,
   "id": "f31832a5",
   "metadata": {},
   "outputs": [
    {
     "name": "stdout",
     "output_type": "stream",
     "text": [
      "2022-Apr-18-20:20:56, Transform phase finished\n",
      "\n"
     ]
    }
   ],
   "source": [
    "log(\"Transform phase finished\")"
   ]
  },
  {
   "cell_type": "markdown",
   "id": "ec4d4335",
   "metadata": {},
   "source": [
    "## 3. Load"
   ]
  },
  {
   "cell_type": "code",
   "execution_count": 16,
   "id": "3718c328",
   "metadata": {},
   "outputs": [
    {
     "name": "stdout",
     "output_type": "stream",
     "text": [
      "2022-Apr-18-20:20:58, ETL process finished\n",
      "\n"
     ]
    }
   ],
   "source": [
    "load(companies, \"final_dataset\")\n",
    "log(\"ETL process finished\")"
   ]
  },
  {
   "cell_type": "markdown",
   "id": "539a3305",
   "metadata": {},
   "source": [
    "# Author\n",
    "\n",
    "Santiago Vallespir"
   ]
  }
 ],
 "metadata": {
  "kernelspec": {
   "display_name": "Python 3 (ipykernel)",
   "language": "python",
   "name": "python3"
  },
  "language_info": {
   "codemirror_mode": {
    "name": "ipython",
    "version": 3
   },
   "file_extension": ".py",
   "mimetype": "text/x-python",
   "name": "python",
   "nbconvert_exporter": "python",
   "pygments_lexer": "ipython3",
   "version": "3.9.7"
  }
 },
 "nbformat": 4,
 "nbformat_minor": 5
}
