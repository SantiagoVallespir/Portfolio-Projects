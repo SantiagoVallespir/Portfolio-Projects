{
 "cells": [
  {
   "cell_type": "markdown",
   "id": "87a2d1a0",
   "metadata": {},
   "source": [
    "# Hypothesis testing: click or not-click A/B test\n",
    "\n",
    "In this simulated experiment, we try to discover if a modification in our company's advertisement can lead to an increase on its click-rate. We want to get an idea of how our new ad can increase the user's interest, and therefore increase the number of clicks.\n",
    "\n",
    "To this reason, we simulate an ***A/B test*** in which 500 users are directed to the old ad (control group) and 500 users are directed to the new ad (test group). The test group will have a 48% click rate increase. We want to determine statistically whether that difference is due to chance or is statistically significant.\n",
    "\n",
    "## Experiment pipeline\n",
    "**1. Create data:** we randomic generate two arrays\n",
    "- Control group: sample of 500 users that see the old version of the advertisement with a click-rate of 10%. The control group is necessary to compare the treatment outcome with previous results.\n",
    "- Treatment group: sample of 500 users that see another version of the advertisement with a click-rate 50% higher than the first one.\n",
    "\n",
    "**2. EDA:** data visualization and summary statistics of both groups\n",
    "\n",
    "**3. Set the experiment:** \n",
    "- Null hypothesis: the increase of click-rate is due to random chance or not? Our null hypothesis then is that our click-rate is not affected by the redising.\n",
    "- Choose the test: a ***Permutation Test*** allows us to simulate the experiment as if the new version of the advertisement has no effect on the click-rate\n",
    "- Set a treshold (p-value): we choose a confidence level of 95%. If the probability of observing a result as extreme or more (p-value) is lower than α, then we reject the Null hypothesis. So our click-rate in that case, it is affected by the redesing of the advertisement. Otherwise, our improved ad does not affect the click-rate.\n",
    "\n",
    "$\\alpha\\ = 0.05$\n",
    "\n",
    "**4. Analyze results**: did the new advertisement led to an improvement?"
   ]
  },
  {
   "cell_type": "markdown",
   "id": "602cbbc9",
   "metadata": {},
   "source": [
    "### 1. Create data"
   ]
  },
  {
   "cell_type": "code",
   "execution_count": 1,
   "id": "1682431b",
   "metadata": {},
   "outputs": [
    {
     "name": "stdout",
     "output_type": "stream",
     "text": [
      "[0. 0. 0. 0. 0. 0. 0. 0. 0. 0. 0. 0. 0. 0. 0. 0. 0. 0. 0. 0. 0. 0. 0. 0.\n",
      " 0. 0. 0. 0. 0. 0. 0. 0. 0. 0. 0. 0. 0. 0. 0. 0. 0. 0. 0. 0. 0. 0. 0. 0.\n",
      " 0. 0. 0. 0. 0. 0. 0. 0. 0. 0. 0. 0. 0. 0. 0. 0. 0. 0. 0. 0. 0. 0. 0. 0.\n",
      " 0. 0. 0. 0. 0. 0. 0. 0. 0. 0. 0. 0. 0. 0. 0. 0. 0. 0. 0. 0. 0. 0. 0. 0.\n",
      " 0. 0. 0. 0. 0. 0. 0. 0. 0. 0. 0. 0. 0. 0. 0. 0. 0. 0. 0. 0. 0. 0. 0. 0.\n",
      " 0. 0. 0. 0. 0. 0. 0. 0. 0. 0. 0. 0. 0. 0. 0. 0. 0. 0. 0. 0. 0. 0. 0. 0.\n",
      " 0. 0. 0. 0. 0. 0. 0. 0. 0. 0. 0. 0. 0. 0. 0. 0. 0. 0. 0. 0. 0. 0. 0. 0.\n",
      " 0. 0. 0. 0. 0. 0. 0. 0. 0. 0. 0. 0. 0. 0. 0. 0. 0. 0. 0. 0. 0. 0. 0. 0.\n",
      " 0. 0. 0. 0. 0. 0. 0. 0. 0. 0. 0. 0. 0. 0. 0. 0. 0. 0. 0. 0. 0. 0. 0. 0.\n",
      " 0. 0. 0. 0. 0. 0. 0. 0. 0. 0. 0. 0. 0. 0. 0. 0. 0. 0. 0. 0. 0. 0. 0. 0.\n",
      " 0. 0. 0. 0. 0. 0. 0. 0. 0. 0. 0. 0. 0. 0. 0. 0. 0. 0. 0. 0. 0. 0. 0. 0.\n",
      " 0. 0. 0. 0. 0. 0. 0. 0. 0. 0. 0. 0. 0. 0. 0. 0. 0. 0. 0. 0. 0. 0. 0. 0.\n",
      " 0. 0. 0. 0. 0. 0. 0. 0. 0. 0. 0. 0. 0. 0. 0. 0. 0. 0. 0. 0. 0. 0. 0. 0.\n",
      " 0. 0. 0. 0. 0. 0. 0. 0. 0. 0. 0. 0. 0. 0. 0. 0. 0. 0. 0. 0. 0. 0. 0. 0.\n",
      " 0. 0. 0. 0. 0. 0. 0. 0. 0. 0. 0. 0. 0. 0. 0. 0. 0. 0. 0. 0. 0. 0. 0. 0.\n",
      " 0. 0. 0. 0. 0. 0. 0. 0. 0. 0. 0. 0. 0. 0. 0. 0. 0. 0. 0. 0. 0. 0. 0. 0.\n",
      " 0. 0. 0. 0. 0. 0. 0. 0. 0. 0. 0. 0. 0. 0. 0. 0. 0. 0. 0. 0. 0. 0. 0. 0.\n",
      " 0. 0. 0. 0. 0. 0. 0. 0. 0. 0. 0. 0. 0. 0. 0. 0. 0. 0. 0. 0. 0. 0. 0. 0.\n",
      " 0. 0. 0. 0. 0. 0. 0. 0. 0. 0. 0. 0. 0. 0. 0. 0. 0. 0. 1. 1. 1. 1. 1. 1.\n",
      " 1. 1. 1. 1. 1. 1. 1. 1. 1. 1. 1. 1. 1. 1. 1. 1. 1. 1. 1. 1. 1. 1. 1. 1.\n",
      " 1. 1. 1. 1. 1. 1. 1. 1. 1. 1. 1. 1. 1. 1. 1. 1. 1. 1. 1. 1.]\n",
      "[0. 0. 0. 0. 0. 0. 0. 0. 0. 0. 0. 0. 0. 0. 0. 0. 0. 0. 0. 0. 0. 0. 0. 0.\n",
      " 0. 0. 0. 0. 0. 0. 0. 0. 0. 0. 0. 0. 0. 0. 0. 0. 0. 0. 0. 0. 0. 0. 0. 0.\n",
      " 0. 0. 0. 0. 0. 0. 0. 0. 0. 0. 0. 0. 0. 0. 0. 0. 0. 0. 0. 0. 0. 0. 0. 0.\n",
      " 0. 0. 0. 0. 0. 0. 0. 0. 0. 0. 0. 0. 0. 0. 0. 0. 0. 0. 0. 0. 0. 0. 0. 0.\n",
      " 0. 0. 0. 0. 0. 0. 0. 0. 0. 0. 0. 0. 0. 0. 0. 0. 0. 0. 0. 0. 0. 0. 0. 0.\n",
      " 0. 0. 0. 0. 0. 0. 0. 0. 0. 0. 0. 0. 0. 0. 0. 0. 0. 0. 0. 0. 0. 0. 0. 0.\n",
      " 0. 0. 0. 0. 0. 0. 0. 0. 0. 0. 0. 0. 0. 0. 0. 0. 0. 0. 0. 0. 0. 0. 0. 0.\n",
      " 0. 0. 0. 0. 0. 0. 0. 0. 0. 0. 0. 0. 0. 0. 0. 0. 0. 0. 0. 0. 0. 0. 0. 0.\n",
      " 0. 0. 0. 0. 0. 0. 0. 0. 0. 0. 0. 0. 0. 0. 0. 0. 0. 0. 0. 0. 0. 0. 0. 0.\n",
      " 0. 0. 0. 0. 0. 0. 0. 0. 0. 0. 0. 0. 0. 0. 0. 0. 0. 0. 0. 0. 0. 0. 0. 0.\n",
      " 0. 0. 0. 0. 0. 0. 0. 0. 0. 0. 0. 0. 0. 0. 0. 0. 0. 0. 0. 0. 0. 0. 0. 0.\n",
      " 0. 0. 0. 0. 0. 0. 0. 0. 0. 0. 0. 0. 0. 0. 0. 0. 0. 0. 0. 0. 0. 0. 0. 0.\n",
      " 0. 0. 0. 0. 0. 0. 0. 0. 0. 0. 0. 0. 0. 0. 0. 0. 0. 0. 0. 0. 0. 0. 0. 0.\n",
      " 0. 0. 0. 0. 0. 0. 0. 0. 0. 0. 0. 0. 0. 0. 0. 0. 0. 0. 0. 0. 0. 0. 0. 0.\n",
      " 0. 0. 0. 0. 0. 0. 0. 0. 0. 0. 0. 0. 0. 0. 0. 0. 0. 0. 0. 0. 0. 0. 0. 0.\n",
      " 0. 0. 0. 0. 0. 0. 0. 0. 0. 0. 0. 0. 0. 0. 0. 0. 0. 0. 0. 0. 0. 0. 0. 0.\n",
      " 0. 0. 0. 0. 0. 0. 0. 0. 0. 0. 0. 0. 0. 0. 0. 0. 0. 0. 0. 0. 0. 0. 0. 0.\n",
      " 0. 0. 0. 0. 0. 0. 0. 0. 0. 0. 0. 0. 0. 0. 0. 0. 0. 1. 1. 1. 1. 1. 1. 1.\n",
      " 1. 1. 1. 1. 1. 1. 1. 1. 1. 1. 1. 1. 1. 1. 1. 1. 1. 1. 1. 1. 1. 1. 1. 1.\n",
      " 1. 1. 1. 1. 1. 1. 1. 1. 1. 1. 1. 1. 1. 1. 1. 1. 1. 1. 1. 1. 1. 1. 1. 1.\n",
      " 1. 1. 1. 1. 1. 1. 1. 1. 1. 1. 1. 1. 1. 1. 1. 1. 1. 1. 1. 1.]\n"
     ]
    }
   ],
   "source": [
    "import numpy as np\n",
    "import matplotlib.pyplot as plt\n",
    "import seaborn as sns\n",
    "\n",
    "# Control group\n",
    "control = np.concatenate((np.zeros(450), np.ones(50)))\n",
    "\n",
    "# Test group\n",
    "treatment = np.concatenate((np.zeros(425), np.ones(75)))\n",
    "\n",
    "print(control)\n",
    "print(treatment)"
   ]
  },
  {
   "cell_type": "markdown",
   "id": "4439d09a",
   "metadata": {},
   "source": [
    "### 2. EDA"
   ]
  },
  {
   "cell_type": "code",
   "execution_count": 2,
   "id": "ef4853b6",
   "metadata": {},
   "outputs": [
    {
     "name": "stdout",
     "output_type": "stream",
     "text": [
      "Control group:\n",
      "sum: 50.0; rate: 0.1; standard deviation: 0.3\n",
      "\n",
      "Test group:\n",
      "sum: 75.0; rate: 0.15; standard deviation: 0.357\n",
      "\n",
      "Difference of rate is 0.04999999999999999\n"
     ]
    },
    {
     "data": {
      "image/png": "[encoded data removed]",
      "text/plain": [
       "<Figure size 432x288 with 1 Axes>"
      ]
     },
     "metadata": {},
     "output_type": "display_data"
    }
   ],
   "source": [
    "# Click-rates\n",
    "control_rate = np.sum(control) / len(control)\n",
    "treatment_rate = np.sum(treatment) / len(treatment)\n",
    "\n",
    "# Rate difference\n",
    "empirical_rate_diff = treatment_rate - control_rate\n",
    "\n",
    "print(f'Control group:') \n",
    "print(f'sum: {np.sum(control)}; rate: {round(control_rate,3)}; standard deviation: {round(np.std(control),3)}')\n",
    "print()\n",
    "print(f'Test group:')\n",
    "print(f'sum: {np.sum(treatment)}; rate: {round(treatment_rate,3)}; standard deviation: {round(np.std(treatment),3)}')\n",
    "print()\n",
    "print(f'Difference of rate is {empirical_rate_diff}')\n",
    "\n",
    "# Barplot\n",
    "sns.set()\n",
    "fig, ax  = plt.subplots()\n",
    "ax.bar([1, 2], [control_rate, treatment_rate], width=1,\n",
    "       tick_label=['Control rate', 'Treatment rate'], align='center')\n",
    "plt.title('Click-rates')\n",
    "plt.ylabel('rate')\n",
    "plt.show()"
   ]
  },
  {
   "cell_type": "markdown",
   "id": "7b8e9d35",
   "metadata": {},
   "source": [
    "### 3. Set the experiment\n",
    "\n",
    "We realize a **Permutation Test** in which we scramble the order of the arrays using the difference of both rates as the **Test statistic**. A ***permutation test*** is a good choice here because we can simulate the result of the experiment as if the redesign had no effect on the click-rate. The **p-value** is set at 0.05.\n",
    "\n",
    "***Test statistic***: is a single statistic that we obtain from the observed and simulated data and used to run the experiment. Is the metric we use to measure the effects of the treatment.\n",
    "\n",
    "***p-value***: is the probability of observing a test statistic equally or more extreme than the one you observed, given that the null hypothesis is true.\n",
    "\n",
    "We define a `permutation_test` function in which we reorder ***n*** times the both arrays (using a concatenation between them) to avoid the effect of the redesing and returns new lists with new simulated datasets for control and treatment groups.\n",
    "- `np.concatenate`: uses a tuple of arrays as input"
   ]
  },
  {
   "cell_type": "code",
   "execution_count": 3,
   "id": "9782ea83",
   "metadata": {},
   "outputs": [],
   "source": [
    "# Permutation test function\n",
    "def permutation_samples(data1, data2, size=1):\n",
    "    \"\"\"Generate a permutation sample from two data sets, calculate their replicates and return p-value\"\"\"\n",
    "\n",
    "    # Concatenate the data sets: data\n",
    "    concatenated_data = np.concatenate((data1, data2))\n",
    "\n",
    "    # Get samples: list of lists with all permuted new data\n",
    "    samples_data_1 = []\n",
    "    samples_data_2 = []\n",
    "    \n",
    "    for sample in range(size):\n",
    "        permuted_data = np.random.permutation(concatenated_data)\n",
    "        samples_data_1.append(permuted_data[:len(data1)])\n",
    "        samples_data_2.append(permuted_data[len(data2):])\n",
    "        \n",
    "    return samples_data_1, samples_data_2"
   ]
  },
  {
   "cell_type": "markdown",
   "id": "db5ff3e9",
   "metadata": {},
   "source": [
    "We define our test statistic function, `rate_diff` that takes a tuple as an input"
   ]
  },
  {
   "cell_type": "code",
   "execution_count": 4,
   "id": "6c23a30e",
   "metadata": {},
   "outputs": [],
   "source": [
    "def rate_diff(permutated_tuple):\n",
    "    \n",
    "    # Define control and treatment\n",
    "    control = permutated_tuple[0]\n",
    "    treatment = permutated_tuple[1]\n",
    "    \n",
    "    # Click-rates\n",
    "    control_rate = np.sum(control) / len(control)\n",
    "    treatment_rate = np.sum(treatment) / len(treatment)\n",
    "\n",
    "    # Rate difference\n",
    "    rate_diff = treatment_rate - control_rate\n",
    "    \n",
    "    return rate_diff"
   ]
  },
  {
   "cell_type": "markdown",
   "id": "bcad66ac",
   "metadata": {},
   "source": [
    "We define a `permutation_replicates` function in which we give as input two lists of permutation samples and our test statistic and calculate it for every experiment."
   ]
  },
  {
   "cell_type": "code",
   "execution_count": 5,
   "id": "51fa3901",
   "metadata": {},
   "outputs": [],
   "source": [
    "def permutation_replicates(data1, data2, test_statistic):\n",
    "    \"\"\"Generate permutation replicates represented by the test statistic of interest for the experiment using\n",
    "    permutation test function\"\"\"\n",
    "    \n",
    "    # Empty array: replicates\n",
    "    replicates = []\n",
    "    \n",
    "    # Get replicates\n",
    "    for exp in zip(data1, data2):\n",
    "        replicates.append(test_statistic(exp))\n",
    "        \n",
    "    return replicates"
   ]
  },
  {
   "cell_type": "markdown",
   "id": "945d06d0",
   "metadata": {},
   "source": [
    "We define a `get_p_value` function"
   ]
  },
  {
   "cell_type": "code",
   "execution_count": 6,
   "id": "faebd298",
   "metadata": {},
   "outputs": [],
   "source": [
    "def get_p_value(data1, data2, empirical_statistic):\n",
    "    \"\"\"Calculate p-value after a permutation experiment using the test statistic of interest\"\"\"\n",
    "    \n",
    "    # Get replicates\n",
    "    replicates = permutation_replicates(data1, data2, rate_diff)\n",
    "    \n",
    "    # Calculate and return p-value\n",
    "    p = np.sum(replicates >= empirical_statistic) / len(replicates)\n",
    "    \n",
    "    return p"
   ]
  },
  {
   "cell_type": "markdown",
   "id": "168d2e88",
   "metadata": {},
   "source": [
    "### 4. Run the experiment and \"get p-value\""
   ]
  },
  {
   "cell_type": "code",
   "execution_count": 7,
   "id": "53794884",
   "metadata": {},
   "outputs": [
    {
     "name": "stdout",
     "output_type": "stream",
     "text": [
      "0.0108\n"
     ]
    }
   ],
   "source": [
    "# Permutation samples\n",
    "control_samples, treatment_samples = permutation_samples(control, treatment, size=10000)\n",
    "\n",
    "# Print p-value\n",
    "p_value = get_p_value(control_samples, treatment_samples, empirical_rate_diff)\n",
    "print(p_value)"
   ]
  },
  {
   "cell_type": "markdown",
   "id": "c81e3f63",
   "metadata": {},
   "source": [
    "### 5. Conclusion\n",
    "\n",
    "Our ***p-value*** is smaller than the treshold we set.\n",
    "\n",
    "\"***The redising of the advertisement improved its performance!***\""
   ]
  }
 ],
 "metadata": {
  "kernelspec": {
   "display_name": "Python 3 (ipykernel)",
   "language": "python",
   "name": "python3"
  },
  "language_info": {
   "codemirror_mode": {
    "name": "ipython",
    "version": 3
   },
   "file_extension": ".py",
   "mimetype": "text/x-python",
   "name": "python",
   "nbconvert_exporter": "python",
   "pygments_lexer": "ipython3",
   "version": "3.9.7"
  }
 },
 "nbformat": 4,
 "nbformat_minor": 5
}
