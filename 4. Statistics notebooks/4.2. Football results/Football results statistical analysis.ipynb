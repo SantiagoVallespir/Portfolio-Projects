{
 "cells": [
  {
   "cell_type": "markdown",
   "id": "ddb17684",
   "metadata": {},
   "source": [
    "# Football results statistical analysis\n",
    "\n",
    "The main idea of this project is to practice different concepts of descriptive and inferential statistics, using the international soccer results dataset. We are going to focus in:\n",
    "- Number of goals by year. \n",
    "- Rare results, defined as matches with more than 10 goals.\n",
    "- Home team performance.\n",
    "\n",
    "Link:\n",
    "https://www.kaggle.com/martj42/international-football-results-from-1872-to-2017\n",
    "\n",
    "##### Questions\n",
    "- Is the number of goals increasing by match ever year?\n",
    "- How total goals by match are distributed?\n",
    "- What can we expect for next years?\n",
    "- How frequently we can see a 10 or more goals match?\n",
    "- How much we have to wait to see a 10 or more goals match?\n",
    "- Home team is more likely to win?\n",
    "\n",
    "## 1. Load libraries and dataset"
   ]
  },
  {
   "cell_type": "code",
   "execution_count": 1,
   "id": "911db9f3",
   "metadata": {},
   "outputs": [
    {
     "data": {
      "text/html": [
       "<div>\n",
       "<style scoped>\n",
       "    .dataframe tbody tr th:only-of-type {\n",
       "        vertical-align: middle;\n",
       "    }\n",
       "\n",
       "    .dataframe tbody tr th {\n",
       "        vertical-align: top;\n",
       "    }\n",
       "\n",
       "    .dataframe thead th {\n",
       "        text-align: right;\n",
       "    }\n",
       "</style>\n",
       "<table border=\"1\" class=\"dataframe\">\n",
       "  <thead>\n",
       "    <tr style=\"text-align: right;\">\n",
       "      <th></th>\n",
       "      <th>date</th>\n",
       "      <th>home_team</th>\n",
       "      <th>away_team</th>\n",
       "      <th>home_score</th>\n",
       "      <th>away_score</th>\n",
       "      <th>tournament</th>\n",
       "      <th>city</th>\n",
       "      <th>country</th>\n",
       "      <th>neutral</th>\n",
       "    </tr>\n",
       "  </thead>\n",
       "  <tbody>\n",
       "    <tr>\n",
       "      <th>0</th>\n",
       "      <td>1872-11-30</td>\n",
       "      <td>Scotland</td>\n",
       "      <td>England</td>\n",
       "      <td>0</td>\n",
       "      <td>0</td>\n",
       "      <td>Friendly</td>\n",
       "      <td>Glasgow</td>\n",
       "      <td>Scotland</td>\n",
       "      <td>False</td>\n",
       "    </tr>\n",
       "    <tr>\n",
       "      <th>1</th>\n",
       "      <td>1873-03-08</td>\n",
       "      <td>England</td>\n",
       "      <td>Scotland</td>\n",
       "      <td>4</td>\n",
       "      <td>2</td>\n",
       "      <td>Friendly</td>\n",
       "      <td>London</td>\n",
       "      <td>England</td>\n",
       "      <td>False</td>\n",
       "    </tr>\n",
       "    <tr>\n",
       "      <th>2</th>\n",
       "      <td>1874-03-07</td>\n",
       "      <td>Scotland</td>\n",
       "      <td>England</td>\n",
       "      <td>2</td>\n",
       "      <td>1</td>\n",
       "      <td>Friendly</td>\n",
       "      <td>Glasgow</td>\n",
       "      <td>Scotland</td>\n",
       "      <td>False</td>\n",
       "    </tr>\n",
       "    <tr>\n",
       "      <th>3</th>\n",
       "      <td>1875-03-06</td>\n",
       "      <td>England</td>\n",
       "      <td>Scotland</td>\n",
       "      <td>2</td>\n",
       "      <td>2</td>\n",
       "      <td>Friendly</td>\n",
       "      <td>London</td>\n",
       "      <td>England</td>\n",
       "      <td>False</td>\n",
       "    </tr>\n",
       "    <tr>\n",
       "      <th>4</th>\n",
       "      <td>1876-03-04</td>\n",
       "      <td>Scotland</td>\n",
       "      <td>England</td>\n",
       "      <td>3</td>\n",
       "      <td>0</td>\n",
       "      <td>Friendly</td>\n",
       "      <td>Glasgow</td>\n",
       "      <td>Scotland</td>\n",
       "      <td>False</td>\n",
       "    </tr>\n",
       "  </tbody>\n",
       "</table>\n",
       "</div>"
      ],
      "text/plain": [
       "         date home_team away_team  home_score  away_score tournament     city  \\\n",
       "0  1872-11-30  Scotland   England           0           0   Friendly  Glasgow   \n",
       "1  1873-03-08   England  Scotland           4           2   Friendly   London   \n",
       "2  1874-03-07  Scotland   England           2           1   Friendly  Glasgow   \n",
       "3  1875-03-06   England  Scotland           2           2   Friendly   London   \n",
       "4  1876-03-04  Scotland   England           3           0   Friendly  Glasgow   \n",
       "\n",
       "    country  neutral  \n",
       "0  Scotland    False  \n",
       "1   England    False  \n",
       "2  Scotland    False  \n",
       "3   England    False  \n",
       "4  Scotland    False  "
      ]
     },
     "execution_count": 1,
     "metadata": {},
     "output_type": "execute_result"
    }
   ],
   "source": [
    "# Load libraries\n",
    "import numpy as np\n",
    "import pandas as pd\n",
    "import matplotlib.pyplot as plt\n",
    "import seaborn as  sns\n",
    "import datetime\n",
    "\n",
    "# Load dataset\n",
    "df = pd.read_csv('results.csv')\n",
    "df.head()"
   ]
  },
  {
   "cell_type": "markdown",
   "id": "58be1c6c",
   "metadata": {},
   "source": [
    "## 2. Data validation and manipulation\n",
    "We transform the date column to datetime, we check the integrity of data and we build new columns"
   ]
  },
  {
   "cell_type": "code",
   "execution_count": 2,
   "id": "d719961c",
   "metadata": {},
   "outputs": [
    {
     "data": {
      "text/plain": [
       "date          object\n",
       "home_team     object\n",
       "away_team     object\n",
       "home_score     int64\n",
       "away_score     int64\n",
       "tournament    object\n",
       "city          object\n",
       "country       object\n",
       "neutral         bool\n",
       "dtype: object"
      ]
     },
     "execution_count": 2,
     "metadata": {},
     "output_type": "execute_result"
    }
   ],
   "source": [
    "df.dtypes"
   ]
  },
  {
   "cell_type": "code",
   "execution_count": 3,
   "id": "967254a7",
   "metadata": {},
   "outputs": [
    {
     "data": {
      "text/plain": [
       "date          datetime64[ns]\n",
       "home_team             object\n",
       "away_team             object\n",
       "home_score             int64\n",
       "away_score             int64\n",
       "tournament            object\n",
       "city                  object\n",
       "country               object\n",
       "neutral                 bool\n",
       "dtype: object"
      ]
     },
     "execution_count": 3,
     "metadata": {},
     "output_type": "execute_result"
    }
   ],
   "source": [
    "df['date'] = pd.to_datetime(df['date'])\n",
    "df.dtypes"
   ]
  },
  {
   "cell_type": "code",
   "execution_count": 4,
   "id": "551b458f",
   "metadata": {},
   "outputs": [
    {
     "data": {
      "text/plain": [
       "date          0\n",
       "home_team     0\n",
       "away_team     0\n",
       "home_score    0\n",
       "away_score    0\n",
       "tournament    0\n",
       "city          0\n",
       "country       0\n",
       "neutral       0\n",
       "dtype: int64"
      ]
     },
     "execution_count": 4,
     "metadata": {},
     "output_type": "execute_result"
    }
   ],
   "source": [
    "df.isnull().sum()"
   ]
  },
  {
   "cell_type": "markdown",
   "id": "dcacc07a",
   "metadata": {},
   "source": [
    "#### 2.1 New columns to build\n",
    "- year\n",
    "- month\n",
    "- total_score\n",
    "- result"
   ]
  },
  {
   "cell_type": "code",
   "execution_count": 5,
   "id": "125f1c7d",
   "metadata": {},
   "outputs": [
    {
     "data": {
      "text/html": [
       "<div>\n",
       "<style scoped>\n",
       "    .dataframe tbody tr th:only-of-type {\n",
       "        vertical-align: middle;\n",
       "    }\n",
       "\n",
       "    .dataframe tbody tr th {\n",
       "        vertical-align: top;\n",
       "    }\n",
       "\n",
       "    .dataframe thead th {\n",
       "        text-align: right;\n",
       "    }\n",
       "</style>\n",
       "<table border=\"1\" class=\"dataframe\">\n",
       "  <thead>\n",
       "    <tr style=\"text-align: right;\">\n",
       "      <th></th>\n",
       "      <th>date</th>\n",
       "      <th>home_team</th>\n",
       "      <th>away_team</th>\n",
       "      <th>home_score</th>\n",
       "      <th>away_score</th>\n",
       "      <th>tournament</th>\n",
       "      <th>city</th>\n",
       "      <th>country</th>\n",
       "      <th>neutral</th>\n",
       "      <th>year</th>\n",
       "      <th>month</th>\n",
       "      <th>total_score</th>\n",
       "      <th>result</th>\n",
       "      <th>home_win</th>\n",
       "    </tr>\n",
       "  </thead>\n",
       "  <tbody>\n",
       "    <tr>\n",
       "      <th>0</th>\n",
       "      <td>1872-11-30</td>\n",
       "      <td>Scotland</td>\n",
       "      <td>England</td>\n",
       "      <td>0</td>\n",
       "      <td>0</td>\n",
       "      <td>Friendly</td>\n",
       "      <td>Glasgow</td>\n",
       "      <td>Scotland</td>\n",
       "      <td>False</td>\n",
       "      <td>1872</td>\n",
       "      <td>11</td>\n",
       "      <td>0</td>\n",
       "      <td>tie</td>\n",
       "      <td>False</td>\n",
       "    </tr>\n",
       "    <tr>\n",
       "      <th>1</th>\n",
       "      <td>1873-03-08</td>\n",
       "      <td>England</td>\n",
       "      <td>Scotland</td>\n",
       "      <td>4</td>\n",
       "      <td>2</td>\n",
       "      <td>Friendly</td>\n",
       "      <td>London</td>\n",
       "      <td>England</td>\n",
       "      <td>False</td>\n",
       "      <td>1873</td>\n",
       "      <td>3</td>\n",
       "      <td>6</td>\n",
       "      <td>home</td>\n",
       "      <td>True</td>\n",
       "    </tr>\n",
       "    <tr>\n",
       "      <th>2</th>\n",
       "      <td>1874-03-07</td>\n",
       "      <td>Scotland</td>\n",
       "      <td>England</td>\n",
       "      <td>2</td>\n",
       "      <td>1</td>\n",
       "      <td>Friendly</td>\n",
       "      <td>Glasgow</td>\n",
       "      <td>Scotland</td>\n",
       "      <td>False</td>\n",
       "      <td>1874</td>\n",
       "      <td>3</td>\n",
       "      <td>3</td>\n",
       "      <td>home</td>\n",
       "      <td>True</td>\n",
       "    </tr>\n",
       "    <tr>\n",
       "      <th>3</th>\n",
       "      <td>1875-03-06</td>\n",
       "      <td>England</td>\n",
       "      <td>Scotland</td>\n",
       "      <td>2</td>\n",
       "      <td>2</td>\n",
       "      <td>Friendly</td>\n",
       "      <td>London</td>\n",
       "      <td>England</td>\n",
       "      <td>False</td>\n",
       "      <td>1875</td>\n",
       "      <td>3</td>\n",
       "      <td>4</td>\n",
       "      <td>tie</td>\n",
       "      <td>False</td>\n",
       "    </tr>\n",
       "    <tr>\n",
       "      <th>4</th>\n",
       "      <td>1876-03-04</td>\n",
       "      <td>Scotland</td>\n",
       "      <td>England</td>\n",
       "      <td>3</td>\n",
       "      <td>0</td>\n",
       "      <td>Friendly</td>\n",
       "      <td>Glasgow</td>\n",
       "      <td>Scotland</td>\n",
       "      <td>False</td>\n",
       "      <td>1876</td>\n",
       "      <td>3</td>\n",
       "      <td>3</td>\n",
       "      <td>home</td>\n",
       "      <td>True</td>\n",
       "    </tr>\n",
       "  </tbody>\n",
       "</table>\n",
       "</div>"
      ],
      "text/plain": [
       "        date home_team away_team  home_score  away_score tournament     city  \\\n",
       "0 1872-11-30  Scotland   England           0           0   Friendly  Glasgow   \n",
       "1 1873-03-08   England  Scotland           4           2   Friendly   London   \n",
       "2 1874-03-07  Scotland   England           2           1   Friendly  Glasgow   \n",
       "3 1875-03-06   England  Scotland           2           2   Friendly   London   \n",
       "4 1876-03-04  Scotland   England           3           0   Friendly  Glasgow   \n",
       "\n",
       "    country  neutral  year  month  total_score result  home_win  \n",
       "0  Scotland    False  1872     11            0    tie     False  \n",
       "1   England    False  1873      3            6   home      True  \n",
       "2  Scotland    False  1874      3            3   home      True  \n",
       "3   England    False  1875      3            4    tie     False  \n",
       "4  Scotland    False  1876      3            3   home      True  "
      ]
     },
     "execution_count": 5,
     "metadata": {},
     "output_type": "execute_result"
    }
   ],
   "source": [
    "# year\n",
    "df['year'] = df['date'].apply(lambda x: x.year)\n",
    "\n",
    "# month\n",
    "df['month'] = df['date'].apply(lambda x: x.month)\n",
    "\n",
    "# total_score\n",
    "df['total_score'] = df['home_score'] + df['away_score']\n",
    "\n",
    "# result\n",
    "result = []\n",
    "for index, row in df.iterrows():\n",
    "    if row['home_score'] > row['away_score']:\n",
    "        result.append('home')\n",
    "    elif row['home_score'] < row['away_score']:\n",
    "        result.append('away')\n",
    "    else:\n",
    "        result.append('tie')\n",
    "        \n",
    "df['result'] = result\n",
    "\n",
    "# home_win\n",
    "home_win = []\n",
    "for index, row in df.iterrows():\n",
    "    if row['home_score'] > row['away_score']:\n",
    "        home_win.append(True)\n",
    "    else:\n",
    "        home_win.append(False)\n",
    "\n",
    "df['home_win'] = home_win\n",
    "        \n",
    "# print head\n",
    "df.head()"
   ]
  },
  {
   "cell_type": "markdown",
   "id": "7f7af823",
   "metadata": {},
   "source": [
    "##### Drop 2022 values (because it didn't yet finished) and 2020 (due to restrictions of Covid-19 pandemic)"
   ]
  },
  {
   "cell_type": "code",
   "execution_count": 6,
   "id": "9a5307cf",
   "metadata": {
    "scrolled": true
   },
   "outputs": [
    {
     "data": {
      "text/html": [
       "<div>\n",
       "<style scoped>\n",
       "    .dataframe tbody tr th:only-of-type {\n",
       "        vertical-align: middle;\n",
       "    }\n",
       "\n",
       "    .dataframe tbody tr th {\n",
       "        vertical-align: top;\n",
       "    }\n",
       "\n",
       "    .dataframe thead th {\n",
       "        text-align: right;\n",
       "    }\n",
       "</style>\n",
       "<table border=\"1\" class=\"dataframe\">\n",
       "  <thead>\n",
       "    <tr style=\"text-align: right;\">\n",
       "      <th></th>\n",
       "      <th>date</th>\n",
       "      <th>home_team</th>\n",
       "      <th>away_team</th>\n",
       "      <th>home_score</th>\n",
       "      <th>away_score</th>\n",
       "      <th>tournament</th>\n",
       "      <th>city</th>\n",
       "      <th>country</th>\n",
       "      <th>neutral</th>\n",
       "      <th>year</th>\n",
       "      <th>month</th>\n",
       "      <th>total_score</th>\n",
       "      <th>result</th>\n",
       "      <th>home_win</th>\n",
       "    </tr>\n",
       "  </thead>\n",
       "  <tbody>\n",
       "    <tr>\n",
       "      <th>43102</th>\n",
       "      <td>2021-12-18</td>\n",
       "      <td>Tunisia</td>\n",
       "      <td>Algeria</td>\n",
       "      <td>0</td>\n",
       "      <td>2</td>\n",
       "      <td>Arab Cup</td>\n",
       "      <td>Al Khor</td>\n",
       "      <td>Qatar</td>\n",
       "      <td>True</td>\n",
       "      <td>2021</td>\n",
       "      <td>12</td>\n",
       "      <td>2</td>\n",
       "      <td>away</td>\n",
       "      <td>False</td>\n",
       "    </tr>\n",
       "    <tr>\n",
       "      <th>43103</th>\n",
       "      <td>2021-12-18</td>\n",
       "      <td>United States</td>\n",
       "      <td>Bosnia and Herzegovina</td>\n",
       "      <td>1</td>\n",
       "      <td>0</td>\n",
       "      <td>Friendly</td>\n",
       "      <td>Los Angeles</td>\n",
       "      <td>United States</td>\n",
       "      <td>False</td>\n",
       "      <td>2021</td>\n",
       "      <td>12</td>\n",
       "      <td>1</td>\n",
       "      <td>home</td>\n",
       "      <td>True</td>\n",
       "    </tr>\n",
       "    <tr>\n",
       "      <th>43104</th>\n",
       "      <td>2021-12-30</td>\n",
       "      <td>Mauritania</td>\n",
       "      <td>Burkina Faso</td>\n",
       "      <td>0</td>\n",
       "      <td>0</td>\n",
       "      <td>Friendly</td>\n",
       "      <td>Abu Dhabi</td>\n",
       "      <td>United Arab Emirates</td>\n",
       "      <td>True</td>\n",
       "      <td>2021</td>\n",
       "      <td>12</td>\n",
       "      <td>0</td>\n",
       "      <td>tie</td>\n",
       "      <td>False</td>\n",
       "    </tr>\n",
       "    <tr>\n",
       "      <th>43105</th>\n",
       "      <td>2021-12-30</td>\n",
       "      <td>Sudan</td>\n",
       "      <td>Ethiopia</td>\n",
       "      <td>2</td>\n",
       "      <td>3</td>\n",
       "      <td>Friendly</td>\n",
       "      <td>Limbé</td>\n",
       "      <td>Cameroon</td>\n",
       "      <td>True</td>\n",
       "      <td>2021</td>\n",
       "      <td>12</td>\n",
       "      <td>5</td>\n",
       "      <td>away</td>\n",
       "      <td>False</td>\n",
       "    </tr>\n",
       "    <tr>\n",
       "      <th>43106</th>\n",
       "      <td>2021-12-31</td>\n",
       "      <td>Malawi</td>\n",
       "      <td>Comoros</td>\n",
       "      <td>2</td>\n",
       "      <td>1</td>\n",
       "      <td>Friendly</td>\n",
       "      <td>Jeddah</td>\n",
       "      <td>Saudi Arabia</td>\n",
       "      <td>True</td>\n",
       "      <td>2021</td>\n",
       "      <td>12</td>\n",
       "      <td>3</td>\n",
       "      <td>home</td>\n",
       "      <td>True</td>\n",
       "    </tr>\n",
       "  </tbody>\n",
       "</table>\n",
       "</div>"
      ],
      "text/plain": [
       "            date      home_team               away_team  home_score  \\\n",
       "43102 2021-12-18        Tunisia                 Algeria           0   \n",
       "43103 2021-12-18  United States  Bosnia and Herzegovina           1   \n",
       "43104 2021-12-30     Mauritania            Burkina Faso           0   \n",
       "43105 2021-12-30          Sudan                Ethiopia           2   \n",
       "43106 2021-12-31         Malawi                 Comoros           2   \n",
       "\n",
       "       away_score tournament         city               country  neutral  \\\n",
       "43102           2   Arab Cup      Al Khor                 Qatar     True   \n",
       "43103           0   Friendly  Los Angeles         United States    False   \n",
       "43104           0   Friendly    Abu Dhabi  United Arab Emirates     True   \n",
       "43105           3   Friendly        Limbé              Cameroon     True   \n",
       "43106           1   Friendly       Jeddah          Saudi Arabia     True   \n",
       "\n",
       "       year  month  total_score result  home_win  \n",
       "43102  2021     12            2   away     False  \n",
       "43103  2021     12            1   home      True  \n",
       "43104  2021     12            0    tie     False  \n",
       "43105  2021     12            5   away     False  \n",
       "43106  2021     12            3   home      True  "
      ]
     },
     "execution_count": 6,
     "metadata": {},
     "output_type": "execute_result"
    }
   ],
   "source": [
    "indexes_2022 = df[(df['year'] == 2020) | (df['year'] == 2022)].index\n",
    "df.drop(indexes_2022, inplace=True)\n",
    "df.tail()"
   ]
  },
  {
   "cell_type": "markdown",
   "id": "5959467a",
   "metadata": {},
   "source": [
    "## 3. Descriptive statistics"
   ]
  },
  {
   "cell_type": "code",
   "execution_count": 7,
   "id": "bd6de6fb",
   "metadata": {},
   "outputs": [
    {
     "data": {
      "text/html": [
       "<div>\n",
       "<style scoped>\n",
       "    .dataframe tbody tr th:only-of-type {\n",
       "        vertical-align: middle;\n",
       "    }\n",
       "\n",
       "    .dataframe tbody tr th {\n",
       "        vertical-align: top;\n",
       "    }\n",
       "\n",
       "    .dataframe thead th {\n",
       "        text-align: right;\n",
       "    }\n",
       "</style>\n",
       "<table border=\"1\" class=\"dataframe\">\n",
       "  <thead>\n",
       "    <tr style=\"text-align: right;\">\n",
       "      <th></th>\n",
       "      <th>home_score</th>\n",
       "      <th>away_score</th>\n",
       "      <th>total_score</th>\n",
       "    </tr>\n",
       "  </thead>\n",
       "  <tbody>\n",
       "    <tr>\n",
       "      <th>count</th>\n",
       "      <td>42808.000000</td>\n",
       "      <td>42808.000000</td>\n",
       "      <td>42808.000000</td>\n",
       "    </tr>\n",
       "    <tr>\n",
       "      <th>mean</th>\n",
       "      <td>1.745235</td>\n",
       "      <td>1.184475</td>\n",
       "      <td>2.929709</td>\n",
       "    </tr>\n",
       "    <tr>\n",
       "      <th>std</th>\n",
       "      <td>1.755485</td>\n",
       "      <td>1.402638</td>\n",
       "      <td>2.089688</td>\n",
       "    </tr>\n",
       "    <tr>\n",
       "      <th>min</th>\n",
       "      <td>0.000000</td>\n",
       "      <td>0.000000</td>\n",
       "      <td>0.000000</td>\n",
       "    </tr>\n",
       "    <tr>\n",
       "      <th>25%</th>\n",
       "      <td>1.000000</td>\n",
       "      <td>0.000000</td>\n",
       "      <td>1.000000</td>\n",
       "    </tr>\n",
       "    <tr>\n",
       "      <th>50%</th>\n",
       "      <td>1.000000</td>\n",
       "      <td>1.000000</td>\n",
       "      <td>3.000000</td>\n",
       "    </tr>\n",
       "    <tr>\n",
       "      <th>75%</th>\n",
       "      <td>2.000000</td>\n",
       "      <td>2.000000</td>\n",
       "      <td>4.000000</td>\n",
       "    </tr>\n",
       "    <tr>\n",
       "      <th>max</th>\n",
       "      <td>31.000000</td>\n",
       "      <td>21.000000</td>\n",
       "      <td>31.000000</td>\n",
       "    </tr>\n",
       "  </tbody>\n",
       "</table>\n",
       "</div>"
      ],
      "text/plain": [
       "         home_score    away_score   total_score\n",
       "count  42808.000000  42808.000000  42808.000000\n",
       "mean       1.745235      1.184475      2.929709\n",
       "std        1.755485      1.402638      2.089688\n",
       "min        0.000000      0.000000      0.000000\n",
       "25%        1.000000      0.000000      1.000000\n",
       "50%        1.000000      1.000000      3.000000\n",
       "75%        2.000000      2.000000      4.000000\n",
       "max       31.000000     21.000000     31.000000"
      ]
     },
     "execution_count": 7,
     "metadata": {},
     "output_type": "execute_result"
    }
   ],
   "source": [
    "df[['home_score','away_score','total_score']].describe()"
   ]
  },
  {
   "cell_type": "markdown",
   "id": "3efb53a1",
   "metadata": {},
   "source": [
    "#### 3.1 'total_score' by 'year'"
   ]
  },
  {
   "cell_type": "code",
   "execution_count": 8,
   "id": "e7b725d2",
   "metadata": {},
   "outputs": [
    {
     "data": {
      "text/html": [
       "<div>\n",
       "<style scoped>\n",
       "    .dataframe tbody tr th:only-of-type {\n",
       "        vertical-align: middle;\n",
       "    }\n",
       "\n",
       "    .dataframe tbody tr th {\n",
       "        vertical-align: top;\n",
       "    }\n",
       "\n",
       "    .dataframe thead th {\n",
       "        text-align: right;\n",
       "    }\n",
       "</style>\n",
       "<table border=\"1\" class=\"dataframe\">\n",
       "  <thead>\n",
       "    <tr style=\"text-align: right;\">\n",
       "      <th></th>\n",
       "      <th>year</th>\n",
       "      <th>sum</th>\n",
       "      <th>amax</th>\n",
       "      <th>mean</th>\n",
       "      <th>std</th>\n",
       "      <th>median</th>\n",
       "      <th>count</th>\n",
       "    </tr>\n",
       "  </thead>\n",
       "  <tbody>\n",
       "    <tr>\n",
       "      <th>144</th>\n",
       "      <td>2016</td>\n",
       "      <td>2536</td>\n",
       "      <td>12</td>\n",
       "      <td>2.732759</td>\n",
       "      <td>1.838614</td>\n",
       "      <td>3.0</td>\n",
       "      <td>928</td>\n",
       "    </tr>\n",
       "    <tr>\n",
       "      <th>145</th>\n",
       "      <td>2017</td>\n",
       "      <td>2583</td>\n",
       "      <td>14</td>\n",
       "      <td>2.696242</td>\n",
       "      <td>1.868903</td>\n",
       "      <td>2.0</td>\n",
       "      <td>958</td>\n",
       "    </tr>\n",
       "    <tr>\n",
       "      <th>146</th>\n",
       "      <td>2018</td>\n",
       "      <td>2369</td>\n",
       "      <td>13</td>\n",
       "      <td>2.609031</td>\n",
       "      <td>1.912705</td>\n",
       "      <td>2.0</td>\n",
       "      <td>908</td>\n",
       "    </tr>\n",
       "    <tr>\n",
       "      <th>147</th>\n",
       "      <td>2019</td>\n",
       "      <td>3321</td>\n",
       "      <td>15</td>\n",
       "      <td>2.872837</td>\n",
       "      <td>2.073604</td>\n",
       "      <td>3.0</td>\n",
       "      <td>1156</td>\n",
       "    </tr>\n",
       "    <tr>\n",
       "      <th>148</th>\n",
       "      <td>2021</td>\n",
       "      <td>2973</td>\n",
       "      <td>14</td>\n",
       "      <td>2.737569</td>\n",
       "      <td>1.906624</td>\n",
       "      <td>2.0</td>\n",
       "      <td>1086</td>\n",
       "    </tr>\n",
       "  </tbody>\n",
       "</table>\n",
       "</div>"
      ],
      "text/plain": [
       "     year   sum  amax      mean       std  median  count\n",
       "144  2016  2536    12  2.732759  1.838614     3.0    928\n",
       "145  2017  2583    14  2.696242  1.868903     2.0    958\n",
       "146  2018  2369    13  2.609031  1.912705     2.0    908\n",
       "147  2019  3321    15  2.872837  2.073604     3.0   1156\n",
       "148  2021  2973    14  2.737569  1.906624     2.0   1086"
      ]
     },
     "execution_count": 8,
     "metadata": {},
     "output_type": "execute_result"
    }
   ],
   "source": [
    "df1 = df.groupby('year')['total_score'].agg([np.sum,np.max,np.mean,np.std,np.median,'count'])\n",
    "df1.reset_index(inplace=True)\n",
    "df1.tail()"
   ]
  },
  {
   "cell_type": "markdown",
   "id": "d89055d2",
   "metadata": {},
   "source": [
    "#### 3.2 Visual EDA\n",
    "\n",
    "##### Is the number of goals by year increasing?\n",
    "\n",
    "##### First graph: mean of goals by year"
   ]
  },
  {
   "cell_type": "code",
   "execution_count": 9,
   "id": "bbfbf5dd",
   "metadata": {},
   "outputs": [
    {
     "data": {
      "image/png": "[encoded data removed]",
      "text/plain": [
       "<Figure size 432x288 with 1 Axes>"
      ]
     },
     "metadata": {},
     "output_type": "display_data"
    }
   ],
   "source": [
    "sns.set()\n",
    "_ = plt.plot(df1['year'], df1['mean'])\n",
    "_ = plt.xlabel('Year')\n",
    "_ = plt.ylabel('Total score mean')\n",
    "_ = plt.title('Mean of goals by year')\n",
    "plt.show()"
   ]
  },
  {
   "cell_type": "markdown",
   "id": "74692004",
   "metadata": {},
   "source": [
    "- The mean is decreasing by time"
   ]
  },
  {
   "cell_type": "markdown",
   "id": "5ce58631",
   "metadata": {},
   "source": [
    "##### Question\n",
    "Why mean of goals is decreasing?:\n",
    "- Because it changed the way of playing\n",
    "- Because the sample for recent years is bigger than precedent years and then the estimate is more precise\n",
    "\n",
    "##### Possible causes:\n",
    "- With the professionalization of soccer, physical training is preferred over technique\n",
    "- Changes in tactics and game dynamics\n",
    "- Changes in the rules \n",
    "\n",
    "##### Second graph: total score by year"
   ]
  },
  {
   "cell_type": "code",
   "execution_count": 41,
   "id": "60d0e820",
   "metadata": {},
   "outputs": [
    {
     "data": {
      "image/png": "[encoded data removed]",
      "text/plain": [
       "<Figure size 432x288 with 1 Axes>"
      ]
     },
     "metadata": {},
     "output_type": "display_data"
    },
    {
     "name": "stdout",
     "output_type": "stream",
     "text": [
      "Comparing 1946 to 2019 we had a goal growth of 774.13%\n"
     ]
    }
   ],
   "source": [
    "_ = plt.plot(df1['year'], df1['sum'], color = 'y')\n",
    "_ = plt.xlabel('Year')\n",
    "_ = plt.ylabel('Total score')\n",
    "_ = plt.title('Total score sum by year')\n",
    "plt.show()\n",
    "\n",
    "df_1946 = df[df['year'] == 1946]\n",
    "df_2019 = df[df['year'] == 2019]\n",
    "\n",
    "goal_growth = round((sum(df_2019['total_score']) * 100) / sum(df_1946['total_score']),2)\n",
    "\n",
    "print(f\"Comparing 1946 to 2019 we had a goal growth of {goal_growth}%\")"
   ]
  },
  {
   "cell_type": "markdown",
   "id": "25e50a64",
   "metadata": {},
   "source": [
    "##### Third graph: number of matches by year"
   ]
  },
  {
   "cell_type": "code",
   "execution_count": 40,
   "id": "d0e8ea94",
   "metadata": {},
   "outputs": [
    {
     "data": {
      "image/png": "[encoded data removed]",
      "text/plain": [
       "<Figure size 432x288 with 1 Axes>"
      ]
     },
     "metadata": {},
     "output_type": "display_data"
    },
    {
     "name": "stdout",
     "output_type": "stream",
     "text": [
      "Comparing 1946 to 2019 we had a match growth of 1256.52%\n"
     ]
    }
   ],
   "source": [
    "_ = plt.plot(df1['year'], df1['count'], color = 'black')\n",
    "_ = plt.xlabel('Year')\n",
    "_ = plt.ylabel('Total matches')\n",
    "_ = plt.title('Total matches by year')\n",
    "plt.show()\n",
    "\n",
    "match_growth = round((len(df_2019) * 100) / len(df_1946),2)\n",
    "\n",
    "print(f\"Comparing 1946 to 2019 we had a match growth of {match_growth}%\")"
   ]
  },
  {
   "cell_type": "markdown",
   "id": "9ab69db0",
   "metadata": {},
   "source": [
    "The last two graphs are quite similar:\n",
    "- Obvious conclusion: as we have more matches, we have more goals\n",
    "\n",
    "##### Fourth graph: total matches vs total score"
   ]
  },
  {
   "cell_type": "code",
   "execution_count": 12,
   "id": "29b0d1a0",
   "metadata": {},
   "outputs": [
    {
     "data": {
      "image/png": "[encoded data removed]",
      "text/plain": [
       "<Figure size 432x288 with 1 Axes>"
      ]
     },
     "metadata": {},
     "output_type": "display_data"
    },
    {
     "name": "stdout",
     "output_type": "stream",
     "text": [
      "Pearson correlation coeff: 0.9937959709348687\n",
      "Slope = 0.3691759152811899\n",
      "Intercept = -23.437566543559925\n"
     ]
    }
   ],
   "source": [
    "# Make a scatterplot\n",
    "_ = plt.plot(df1['sum'], df1['count'], color = 'g', marker='.', linestyle='none')\n",
    "_ = plt.xlabel('Total score')\n",
    "_ = plt.ylabel('Total matches')\n",
    "_ = plt.title('Total goals by total matches')\n",
    "\n",
    "# Perform a linear regression using np.polyfit(): a, b\n",
    "a, b = np.polyfit(df1['sum'], df1['count'], 1)\n",
    "\n",
    "# Plot regression line\n",
    "x = np.array([0, 3500])\n",
    "y = a * x + b\n",
    "\n",
    "# Add regression line\n",
    "_ = plt.plot(x, y)\n",
    "\n",
    "plt.show()\n",
    "\n",
    "print(f\"Pearson correlation coeff: {np.corrcoef(df1['sum'],df1['count'])[0,1]}\")\n",
    "print(f'Slope = {a}')\n",
    "print(f'Intercept = {b}')"
   ]
  },
  {
   "cell_type": "markdown",
   "id": "2f89ef90",
   "metadata": {},
   "source": [
    "##### Fifth graph: total score boxplot"
   ]
  },
  {
   "cell_type": "code",
   "execution_count": 13,
   "id": "10ea1d7e",
   "metadata": {},
   "outputs": [
    {
     "data": {
      "image/png": "[encoded data removed]",
      "text/plain": [
       "<Figure size 432x288 with 1 Axes>"
      ]
     },
     "metadata": {},
     "output_type": "display_data"
    }
   ],
   "source": [
    "_ = sns.boxplot(x=df['total_score'])\n",
    "plt.show()"
   ]
  },
  {
   "cell_type": "markdown",
   "id": "17470283",
   "metadata": {},
   "source": [
    "- Median is 3\n",
    "- 75% of events are between 1 and 4\n",
    "- There are many outliers with two results with 30 or more goals\n",
    "\n",
    "##### Sixth graph: result"
   ]
  },
  {
   "cell_type": "code",
   "execution_count": 14,
   "id": "66d5e57a",
   "metadata": {},
   "outputs": [
    {
     "data": {
      "image/png": "[encoded data removed]",
      "text/plain": [
       "<Figure size 432x288 with 1 Axes>"
      ]
     },
     "metadata": {},
     "output_type": "display_data"
    }
   ],
   "source": [
    "_ = sns.countplot(x=df['result'], order = ['home','tie','away'])\n",
    "_ = plt.xlabel(\"Result\")\n",
    "_ = plt.ylabel(\"Frequency\")\n",
    "plt.show()"
   ]
  },
  {
   "cell_type": "markdown",
   "id": "9960007f",
   "metadata": {},
   "source": [
    "##### Seventh graph: home win"
   ]
  },
  {
   "cell_type": "code",
   "execution_count": 15,
   "id": "38a6f124",
   "metadata": {},
   "outputs": [
    {
     "data": {
      "image/png": "[encoded data removed]",
      "text/plain": [
       "<Figure size 432x288 with 1 Axes>"
      ]
     },
     "metadata": {},
     "output_type": "display_data"
    }
   ],
   "source": [
    "_ = sns.countplot(x=df['home_win'], order = [True, False])\n",
    "_ = plt.xlabel(\"Home win\")\n",
    "_ = plt.ylabel(\"Frequency\")\n",
    "plt.show()"
   ]
  },
  {
   "cell_type": "markdown",
   "id": "bc3f19c3",
   "metadata": {},
   "source": [
    "## 4. Inferential statistics"
   ]
  },
  {
   "cell_type": "markdown",
   "id": "9f6a9903",
   "metadata": {},
   "source": [
    "#### 4.1. Probability distribution\n",
    "\n",
    "##### How total goals are distributed?"
   ]
  },
  {
   "cell_type": "markdown",
   "id": "6e0ac861",
   "metadata": {},
   "source": [
    "Our distribution of total score seems to be ***Poisson distributed***: In probability theory and statistics, the **Poisson distribution** is a ***discrete probability distribution*** that expresses the probability of a given number of events occurring in a fixed `interval` of time or space if these events occur with a ***known constant mean rate*** and ***independently*** of the time since the last event.\n",
    "- `k`: number of goals\n",
    "- `interval`: 1 match\n",
    "\n",
    "Following: https://en.wikipedia.org/wiki/Poisson_distribution\n",
    "\n",
    "##### Assumptions and validity:\n",
    "- `k` is the number of times an event occurs in an interval and can take values 0, 1, 2, ….\n",
    "- The occurrence of one event does not affect the probability that a second event will occur. That is, events occur independently: ***a goal is independent from other goals within a match***.\n",
    "- The average rate at which events occur is independent of any occurrences. For simplicity, this is usually assumed to be constant, but may in practice vary with time: ***our mean rate is virtually costant with a 2.93 goals per match and a peak on 3***.\n",
    "- Two events cannot occur at exactly the same instant; instead, at each very small sub-interval, either exactly one event occurs, or no event occurs.\n",
    "- The number of trials must be quite bigger than the number of succeses: ***the number of total matches (trials) is quite bigger than goals per match (succeses)***.\n",
    "\n",
    "##### Probability Mass Function (PMF)\n",
    "A ***probability mass function*** is a function that gives the probability that a discrete random variable (in this case, ***number of goals per match***) is exactly equal to some value. A ***PMF*** is defined as the set of probabilities of discrete outcomes."
   ]
  },
  {
   "cell_type": "code",
   "execution_count": 16,
   "id": "58fae247",
   "metadata": {},
   "outputs": [
    {
     "data": {
      "image/png": "[encoded data removed]",
      "text/plain": [
       "<Figure size 432x288 with 1 Axes>"
      ]
     },
     "metadata": {},
     "output_type": "display_data"
    }
   ],
   "source": [
    "sns.set()\n",
    "_ = plt.hist(df['total_score'], bins=31)\n",
    "_ = plt.xlabel('Total score (number of goals)')\n",
    "_ = plt.ylabel('PMF')\n",
    "plt.show()"
   ]
  },
  {
   "cell_type": "markdown",
   "id": "b1559245",
   "metadata": {},
   "source": [
    "#### 4.2. Empirical cumulative distribution function (ECDF)"
   ]
  },
  {
   "cell_type": "code",
   "execution_count": 17,
   "id": "e770549c",
   "metadata": {},
   "outputs": [
    {
     "data": {
      "image/png": "[encoded data removed]",
      "text/plain": [
       "<Figure size 432x288 with 1 Axes>"
      ]
     },
     "metadata": {},
     "output_type": "display_data"
    }
   ],
   "source": [
    "# Define an ecdf function\n",
    "def ecdf(data):\n",
    "    \"\"\"Compute ECDF for a one-dimensional array of measurements.\"\"\"\n",
    "    # Number of data points: n\n",
    "    n = len(data)\n",
    "\n",
    "    # x-data for the ECDF: x\n",
    "    x = np.sort(data)\n",
    "\n",
    "    # y-data for the ECDF: y\n",
    "    y = np.arange(1, len(x)+1) / n\n",
    "\n",
    "    return x, y\n",
    "\n",
    "# Percentiles\n",
    "percentiles = np.array([2.5,25,50,75,97.5])\n",
    "df_percentiles = np.percentile(df['total_score'], percentiles)\n",
    "\n",
    "# ECDF\n",
    "x, y = ecdf(df['total_score'])\n",
    "\n",
    "# Show the plot\n",
    "_ = plt.plot(x, y, marker='.', linestyle='none')\n",
    "_ = plt.xlabel('Total score')\n",
    "_ = plt.ylabel('PMF')\n",
    "_ = plt.plot(df_percentiles, percentiles/100, marker='D', color='red',linestyle= 'none')\n",
    "plt.show()"
   ]
  },
  {
   "cell_type": "markdown",
   "id": "a74e051f",
   "metadata": {},
   "source": [
    "##### Conclusions\n",
    "- Almost 50% of probability to have at least 3 goals\n",
    "- Matches with more than 10 goals are extremely rare\n",
    "\n",
    "#### 4.3. Parameter estimation\n",
    "\n",
    "##### Does data fit our model?\n",
    "We simulate 10000 poisson distributions with a `k` mean of 2.93 goals by match and we compare it with our empirical data"
   ]
  },
  {
   "cell_type": "code",
   "execution_count": 18,
   "id": "22d521c6",
   "metadata": {},
   "outputs": [
    {
     "data": {
      "image/png": "[encoded data removed]",
      "text/plain": [
       "<Figure size 432x288 with 1 Axes>"
      ]
     },
     "metadata": {},
     "output_type": "display_data"
    }
   ],
   "source": [
    "##### Calculate 'k'\n",
    "# Set random number generator (seed)\n",
    "np.random.seed(42)\n",
    "\n",
    "# 'k'\n",
    "k = np.mean(df['total_score'])\n",
    "\n",
    "# Draw a poisson distribution with 'k' as parameter and a size of 10000\n",
    "k_poisson = np.random.poisson(k, 10000)\n",
    "\n",
    "# Plot a PDF (area under the curve gives the probability)\n",
    "_ = plt.hist(k_poisson, bins=10, density=True, histtype='step')\n",
    "_ = plt.xlabel('Total goals')\n",
    "_ = plt.ylabel('PDF')\n",
    "\n",
    "# Show the plot\n",
    "plt.show()"
   ]
  },
  {
   "cell_type": "code",
   "execution_count": 19,
   "id": "2425b6df",
   "metadata": {},
   "outputs": [
    {
     "data": {
      "image/png": "[encoded data removed]",
      "text/plain": [
       "<Figure size 432x288 with 1 Axes>"
      ]
     },
     "metadata": {},
     "output_type": "display_data"
    }
   ],
   "source": [
    "##### Overlay empirical CDF and theoretical CDF\n",
    "# Create an ECDF from real data: x, y\n",
    "x, y = ecdf(df['total_score'])\n",
    "\n",
    "# Create a CDF from theoretical samples: x_theor, y_theor\n",
    "x_theor, y_theor = ecdf(k_poisson)\n",
    "\n",
    "# Overlay the plots\n",
    "plt.plot(x_theor, y_theor, marker='.', linestyle='none')\n",
    "plt.plot(x, y, marker='.', linestyle='none', color='y')\n",
    "\n",
    "\n",
    "# Margins and axis labels\n",
    "plt.margins(0.02)\n",
    "plt.xlabel('Total score')\n",
    "plt.ylabel('CDF')\n",
    "\n",
    "# Show the plot\n",
    "plt.show()"
   ]
  },
  {
   "cell_type": "markdown",
   "id": "dc19c16d",
   "metadata": {},
   "source": [
    "Data fits our model!\n",
    "\n",
    "#### 4.4. Bootstrap\n",
    "##### What can we expect for next years?\n",
    "Use resampled with replacement data to make statistical inference.\n",
    "1. **Bootstrap samples**: we simulate getting data again performing 10000 samples with replacement from the original data\n",
    "2. **Bootstrap replicates**: we compute the summary statistic of interest (mean) from every sample obtained.\n",
    "3. **PDF**: we plot a probability density function to see what can we expect if we reproduce the experiment again.\n",
    "4. **Confidence interval**: interval with x% confidence level in which we can expect our statistic of interest to lie if the experiment is repeated.\n",
    "\n",
    "##### Run the bootstrap"
   ]
  },
  {
   "cell_type": "code",
   "execution_count": 20,
   "id": "cdd2af4c",
   "metadata": {},
   "outputs": [
    {
     "name": "stdout",
     "output_type": "stream",
     "text": [
      "Mean: 2.9297291324051575\n",
      "Standard error: 0.010099828029134011\n",
      "Standard deviation: 0.010117624969901387\n"
     ]
    },
    {
     "data": {
      "image/png": "[encoded data removed]",
      "text/plain": [
       "<Figure size 432x288 with 1 Axes>"
      ]
     },
     "metadata": {},
     "output_type": "display_data"
    },
    {
     "name": "stdout",
     "output_type": "stream",
     "text": [
      "We can expect that mean of total goals for the future 42808 matches will fall between 2.9098293543262943 and 2.949496005419548\n"
     ]
    }
   ],
   "source": [
    "# Define empty array whose lenght is equal to the size of the experiment (number of bootstrap samples)\n",
    "bs_replicates = np.empty(10000)\n",
    "\n",
    "# Make samples and calculate their replicates\n",
    "for i in range(10000):\n",
    "    bs_sample = np.random.choice(df['total_score'], len(df['total_score']))\n",
    "    bs_replicates[i] = np.mean(bs_sample)\n",
    "    \n",
    "# Print mean and standard error\n",
    "print(f\"Mean: {np.mean(bs_replicates)}\")\n",
    "print(f\"Standard error: {np.std(df['total_score'])/np.sqrt(len(df['total_score']))}\")\n",
    "print(f\"Standard deviation: {np.std(bs_replicates)}\")\n",
    "\n",
    "# Plot Histogram\n",
    "_ = plt.hist(bs_replicates, bins=10, density=True)\n",
    "_ = plt.xlabel('Mean of goals by match')\n",
    "_ = plt.ylabel('PDF')\n",
    "\n",
    "# Show the plot\n",
    "plt.show()\n",
    "\n",
    "# Confidence intervals\n",
    "lim1, lim2 = np.percentile(bs_replicates, [2.5,97.5])\n",
    "\n",
    "# Conclusions\n",
    "print(f\"We can expect that mean of total goals for the future {len(df['total_score'])} matches will fall between {lim1} and {lim2}\")"
   ]
  },
  {
   "cell_type": "markdown",
   "id": "7a05c508",
   "metadata": {},
   "source": [
    "#### 4.5. What about matches with 10 or more goals\n",
    "We calculate the ammount of matches until we have a match with more than ten goals. Then we perform statistical inference."
   ]
  },
  {
   "cell_type": "code",
   "execution_count": 21,
   "id": "c63ee190",
   "metadata": {},
   "outputs": [
    {
     "name": "stdout",
     "output_type": "stream",
     "text": [
      "[20, 37, 3, 62, 12, 88, 3, 90, 23, 124, 13, 60, 122, 172, 229, 3, 464, 54, 25, 23, 32, 48, 206, 73, 25, 10, 58, 26, 25, 47, 133, 6, 79, 34, 45, 54, 99, 87, 5, 118, 36, 72, 120, 34, 75, 10, 76, 41, 220, 114, 42, 6, 10, 8, 144, 99, 51, 81, 14, 90, 232, 54, 47, 115, 63, 77, 50, 94, 331, 238, 52, 5, 5, 43, 6, 11, 115, 373, 35, 6, 3, 88, 170, 225, 114, 175, 253, 79, 109, 30, 229, 365, 4, 2, 483, 87, 151, 9, 25, 72, 348, 298, 68, 22, 955, 59, 514, 1, 2, 1, 1, 6, 189, 9, 739, 383, 448, 5, 176, 393, 1425, 737, 1183, 15, 5, 431, 566, 529, 873, 36, 2, 9, 4, 902, 495, 6, 46, 3, 630, 6, 225, 103, 40, 520, 8, 32, 273, 76, 6, 87, 20, 49, 398, 421, 3, 166, 50, 104, 15, 2, 1, 3, 6, 4, 3, 13, 57, 1, 23, 46, 167, 339, 417, 8, 329, 25, 124, 328, 4, 6, 3, 8, 9, 15, 26, 172, 194, 21, 192, 147, 664, 1, 3, 214, 5, 835, 393, 226, 5, 77, 391, 184, 2, 8, 463, 136, 1416, 6, 877, 148, 830, 25, 25, 647, 51, 11, 139, 76, 129, 14, 9, 822, 712, 5, 29, 1141, 289, 428, 836, 1296, 34, 84, 490, 274, 19, 1, 1, 6, 1, 279, 150, 340, 31, 120]\n"
     ]
    }
   ],
   "source": [
    "# Build the times_to_11_goals\n",
    "times_to_11_goals = []\n",
    "matches = 0\n",
    "\n",
    "for x in df['total_score']:\n",
    "    if x <= 10:\n",
    "        matches += 1\n",
    "    else:\n",
    "        matches += 1\n",
    "        times_to_11_goals.append(matches)\n",
    "        matches = 0\n",
    "    \n",
    "print(times_to_11_goals)"
   ]
  },
  {
   "cell_type": "code",
   "execution_count": 42,
   "id": "2534f731",
   "metadata": {},
   "outputs": [
    {
     "data": {
      "image/png": "[encoded data removed]",
      "text/plain": [
       "<Figure size 432x288 with 1 Axes>"
      ]
     },
     "metadata": {},
     "output_type": "display_data"
    },
    {
     "name": "stdout",
     "output_type": "stream",
     "text": [
      "Mean: 172.18032786885246\n"
     ]
    }
   ],
   "source": [
    "# Make the PDF\n",
    "_ = plt.hist(times_to_11_goals, bins=200, density=True, histtype='step')\n",
    "_ = plt.xlabel('Waiting games until 11 or more goals')\n",
    "_ = plt.ylabel('PDF')\n",
    "\n",
    "# Show the plot\n",
    "plt.show()\n",
    "\n",
    "# 'k': mean waiting time\n",
    "k = np.mean(times_to_11_goals)\n",
    "print(f\"Mean: {k}\")"
   ]
  },
  {
   "cell_type": "markdown",
   "id": "786caeff",
   "metadata": {},
   "source": [
    "#### 4.6. Exponential distribution\n",
    "The ***exponential distribution*** is the probability distribution of the time between events in a Poisson point process, \n",
    "in which events occur continuously and independently at a constant average rate.\n",
    "- It has a single parameter, the mean waiting time. \n",
    "- This distribution is not peaked\n",
    "\n",
    "**Test**: the waiting time (number of matches) until we see a match with more than ten goals is exponentially distributed?"
   ]
  },
  {
   "cell_type": "code",
   "execution_count": 23,
   "id": "fd49419e",
   "metadata": {},
   "outputs": [
    {
     "data": {
      "image/png": "[encoded data removed]",
      "text/plain": [
       "<Figure size 432x288 with 1 Axes>"
      ]
     },
     "metadata": {},
     "output_type": "display_data"
    }
   ],
   "source": [
    "# Seed random number generator\n",
    "np.random.seed(42)\n",
    "\n",
    "# Run the experiment\n",
    "theor_times_to_11_goals = np.random.exponential(k, 10000)\n",
    "\n",
    "# Make the PDF\n",
    "_ = plt.hist(theor_times_to_11_goals, bins=200, density=True, histtype='step')\n",
    "_ = plt.xlabel('Waiting games until 11 or more goals')\n",
    "_ = plt.ylabel('PDF')\n",
    "\n",
    "# Show the plot\n",
    "plt.show()"
   ]
  },
  {
   "cell_type": "markdown",
   "id": "3fc22f3e",
   "metadata": {},
   "source": [
    "##### Does data follow our distribution?"
   ]
  },
  {
   "cell_type": "code",
   "execution_count": 24,
   "id": "71e7dfdc",
   "metadata": {},
   "outputs": [
    {
     "data": {
      "image/png": "[encoded data removed]",
      "text/plain": [
       "<Figure size 432x288 with 1 Axes>"
      ]
     },
     "metadata": {},
     "output_type": "display_data"
    }
   ],
   "source": [
    "# Create an ECDF from empirical data: x, y\n",
    "x, y = ecdf(times_to_11_goals)\n",
    "\n",
    "# Create a CDF from theoretical samples: x_theor, y_theor\n",
    "x_theor, y_theor = ecdf(theor_times_to_11_goals)\n",
    "\n",
    "# Overlay the plots\n",
    "plt.plot(x_theor, y_theor, marker='.', linestyle='none')\n",
    "plt.plot(x, y, marker='.', linestyle='none', color='y')\n",
    "\n",
    "\n",
    "# Margins and axis labels\n",
    "plt.margins(0.02)\n",
    "plt.xlabel('Games between 11 or more goals')\n",
    "plt.ylabel('CDF')\n",
    "\n",
    "# Show the plot\n",
    "plt.show()"
   ]
  },
  {
   "cell_type": "markdown",
   "id": "1c064b2e",
   "metadata": {},
   "source": [
    "Even though the empirical distribution does not follow precisely the theoretical distribution, we can assume that our data is exponentially distributed.\n",
    "- This suggest that having matches with more than 10 goals is a random process that is independent from previous matches.\n",
    "\n",
    "#### 4.7. What about home team performance?\n",
    "We model the home team performance as a binomial distribution of `n` bernoulli trials where every event (single match) has two possible outcomes:\n",
    "- Home win\n",
    "- Home does not win\n",
    "- `n = 1000000`: we simulate 1 million matches\n",
    "\n",
    "##### How many home wins can we expect in 1 million matches"
   ]
  },
  {
   "cell_type": "code",
   "execution_count": 25,
   "id": "69f618f3",
   "metadata": {},
   "outputs": [
    {
     "name": "stdout",
     "output_type": "stream",
     "text": [
      "Probability of home win: 0.48691833302186505\n",
      "486441\n"
     ]
    }
   ],
   "source": [
    "# Home win probability\n",
    "p = np.sum(df['home_win'])/len(df['home_win'])\n",
    "print(f\"Probability of home win: {p}\")\n",
    "\n",
    "# Make bernoulli trials: n = 1000000\n",
    "success = 0\n",
    "\n",
    "np.random.seed(42)\n",
    "for i in range(1000000):\n",
    "    number = np.random.random() < p\n",
    "    \n",
    "    # If number < p is a success\n",
    "    if number == True:\n",
    "        success +=1\n",
    "        \n",
    "print(success)"
   ]
  },
  {
   "cell_type": "markdown",
   "id": "47c4463f",
   "metadata": {},
   "source": [
    "#### 4.8. Binomial distribution\n",
    "The number ***r*** of successes in ***n*** Bernoulli trials with probability ***p*** of success is ***Binomially distributed***.\n",
    "\n",
    "- We simulate 100 experiments with 50000 games and we calculate the probability of home win for every experiment\n",
    "- We plot the ecdf and binomial distribution"
   ]
  },
  {
   "cell_type": "code",
   "execution_count": 32,
   "id": "3447d9c0",
   "metadata": {},
   "outputs": [
    {
     "data": {
      "image/png": "[encoded data removed]",
      "text/plain": [
       "<Figure size 432x288 with 1 Axes>"
      ]
     },
     "metadata": {},
     "output_type": "display_data"
    }
   ],
   "source": [
    "def bernoulli_trial(r, p):\n",
    "    \"Function that makes a Bernouli trial with 'r' successes and a probability 'p'\"\n",
    "    success = 0\n",
    "    \n",
    "    for i in range(r):\n",
    "        number = np.random.random() < p\n",
    "\n",
    "        # If number < p is a success\n",
    "        if number == True:\n",
    "            success +=1\n",
    "    \n",
    "    return success\n",
    "\n",
    "np.random.seed(42)\n",
    "n_experiments = np.empty(100)\n",
    "\n",
    "for i in range(100):\n",
    "    n_experiments[i] = bernoulli_trial(50000, p)\n",
    "    \n",
    "_ = plt.hist(n_experiments, bins=10)\n",
    "_ = plt.xlabel('Number of home wins')\n",
    "_ = plt.ylabel('Probability')\n",
    "\n",
    "plt.show()"
   ]
  },
  {
   "cell_type": "code",
   "execution_count": 35,
   "id": "72425d2d",
   "metadata": {},
   "outputs": [
    {
     "data": {
      "image/png": "[encoded data removed]",
      "text/plain": [
       "<Figure size 432x288 with 1 Axes>"
      ]
     },
     "metadata": {},
     "output_type": "display_data"
    },
    {
     "name": "stdout",
     "output_type": "stream",
     "text": [
      "We might expect that in next 50000 matches, home wins will be betwenn 24121 and 24530 with 95% of confidence\n"
     ]
    }
   ],
   "source": [
    "x, y = ecdf(n_experiments)\n",
    "\n",
    "_ = plt.plot(x, y, marker='.', linestyle='none')\n",
    "_ = plt.xlabel('Home wins')\n",
    "_ = plt.ylabel('ECDF')\n",
    "\n",
    "plt.show()\n",
    "\n",
    "lim1, lim2 = np.percentile(n_experiments, [2.5, 97.5])\n",
    "\n",
    "print(f\"We might expect that in next 50000 matches, home wins will be between {int(lim1)} and {int(lim2)} with 95% of confidence\")"
   ]
  },
  {
   "cell_type": "markdown",
   "id": "1c450b74",
   "metadata": {},
   "source": [
    "## 5. Conclusions\n",
    "\n",
    "**1. The number of goals by match is not increasing by year but getting constant**.\n",
    "- In earlier years we had more goals by match due to changes in the game.\n",
    "- In earlier years the ammount of games was reduced while in recent years it increased so our data for that years is more robust.\n",
    "- Comparing 1946 to 2019 we had a match growth of 1256.52% traduced in a goal growth of 774.13%\n",
    "\n",
    "**2. How total goals by match are distributed?**\n",
    "- Poisson distributed, with a mean rate virtually costant with a 2.93 goals per match and a peak on 3.\n",
    "- We have almost 50% of probability to have at least 3 goals\n",
    "- Matches with more than 10 goals are extremely rare\n",
    "\n",
    "**3. What can we expect for next years?**\n",
    "- We can expect that mean of total goals for the future 42808 matches will fall between 2.91 and 2.95\n",
    "\n",
    "**4. how much we have to wait to see a 10 or more goals match?**\n",
    "- Is an extremely rare event\n",
    "- Is exponential distributed; the event is randomic and independt to other events.\n",
    "- Mean: 172.18\n",
    "\n",
    "**5. home team is more likely to win?**\n",
    "- We might expect that in next 50000 matches, home wins will be betwenn 24121 and 24530 with 95% of confidence\n",
    "- Probability of home team winning is just lower than 50%\n",
    "- This happens because the original set of discrete results has 3 possible successes: win, lose, tie."
   ]
  }
 ],
 "metadata": {
  "kernelspec": {
   "display_name": "Python 3 (ipykernel)",
   "language": "python",
   "name": "python3"
  },
  "language_info": {
   "codemirror_mode": {
    "name": "ipython",
    "version": 3
   },
   "file_extension": ".py",
   "mimetype": "text/x-python",
   "name": "python",
   "nbconvert_exporter": "python",
   "pygments_lexer": "ipython3",
   "version": "3.9.7"
  }
 },
 "nbformat": 4,
 "nbformat_minor": 5
}
